{
 "cells": [
  {
   "cell_type": "code",
   "execution_count": 1,
   "id": "e39597b1",
   "metadata": {},
   "outputs": [],
   "source": [
    "import requests\n",
    "from bs4 import BeautifulSoup\n",
    "import pandas as pd\n",
    "import matplotlib.pyplot as plt"
   ]
  },
  {
   "cell_type": "code",
   "execution_count": 2,
   "id": "e4be4326",
   "metadata": {},
   "outputs": [
    {
     "name": "stderr",
     "output_type": "stream",
     "text": [
      "C:\\Users\\sahit\\AppData\\Local\\Programs\\Python\\Python311\\Lib\\site-packages\\tqdm\\auto.py:21: TqdmWarning: IProgress not found. Please update jupyter and ipywidgets. See https://ipywidgets.readthedocs.io/en/stable/user_install.html\n",
      "  from .autonotebook import tqdm as notebook_tqdm\n"
     ]
    }
   ],
   "source": [
    "from prophet.plot import plot_plotly, plot_components_plotly\n",
    "from prophet import Prophet"
   ]
  },
  {
   "cell_type": "code",
   "execution_count": null,
   "id": "e5925a1e",
   "metadata": {},
   "outputs": [],
   "source": []
  },
  {
   "cell_type": "code",
   "execution_count": 65,
   "id": "8b76c57d",
   "metadata": {},
   "outputs": [],
   "source": [
    "url = 'https://www.gobankingrates.com/saving-money/food/price-coffee-year-were-born/?utm_campaign=850937&utm_source=yahoo.com&utm_content=6'\n",
    "html = requests.get(url)\n",
    "soup = BeautifulSoup(html.content, 'html.parser')\n"
   ]
  },
  {
   "cell_type": "code",
   "execution_count": 66,
   "id": "0dfe23b5",
   "metadata": {},
   "outputs": [],
   "source": [
    "# Find all <div> tags with class \"wp-block-group__inner-container\"\n",
    "div_tags = soup.find_all('div', class_='wp-block-group__inner-container')\n",
    "\n",
    "data_list=[]\n",
    "# Loop through each <div> tag and extract the text from <p> tags starting with \"Cost of Coffee in\"\n",
    "for div_tag in div_tags:\n",
    "    p_tags = div_tag.find_all('p')\n",
    "    for p_tag in p_tags:\n",
    "        if p_tag.text.startswith(\"Cost of Coffee in\"):\n",
    "            data_list.append(p_tag.text.strip())"
   ]
  },
  {
   "cell_type": "code",
   "execution_count": 67,
   "id": "f2d1a192",
   "metadata": {},
   "outputs": [],
   "source": [
    "\n",
    "# Initialize lists to store year and price\n",
    "years = []\n",
    "prices = []\n",
    "\n",
    "# Process each line separately\n",
    "for line in data_list:\n",
    "    # Split the line by \":\"\n",
    "    split_line = line.split(\":\")\n",
    "    \n",
    "    # Extract year and price\n",
    "    year = split_line[0].split()[-1]\n",
    "    price = split_line[1].strip().split('$')[-1]\n",
    "    \n",
    "    # Append year and price to lists\n",
    "    years.append(year)\n",
    "    prices.append(price)\n",
    "\n",
    "# Create a DataFrame from the lists\n",
    "df = pd.DataFrame({'Year': years, 'Price': prices})\n"
   ]
  },
  {
   "cell_type": "code",
   "execution_count": 68,
   "id": "2fb686f4",
   "metadata": {},
   "outputs": [],
   "source": [
    "df['Price'] = pd.to_numeric(df['Price'])"
   ]
  },
  {
   "cell_type": "code",
   "execution_count": 69,
   "id": "f2e67ea4",
   "metadata": {},
   "outputs": [
    {
     "data": {
      "text/html": [
       "<div>\n",
       "<style scoped>\n",
       "    .dataframe tbody tr th:only-of-type {\n",
       "        vertical-align: middle;\n",
       "    }\n",
       "\n",
       "    .dataframe tbody tr th {\n",
       "        vertical-align: top;\n",
       "    }\n",
       "\n",
       "    .dataframe thead th {\n",
       "        text-align: right;\n",
       "    }\n",
       "</style>\n",
       "<table border=\"1\" class=\"dataframe\">\n",
       "  <thead>\n",
       "    <tr style=\"text-align: right;\">\n",
       "      <th></th>\n",
       "      <th>Year</th>\n",
       "      <th>Price</th>\n",
       "    </tr>\n",
       "  </thead>\n",
       "  <tbody>\n",
       "    <tr>\n",
       "      <th>0</th>\n",
       "      <td>1940</td>\n",
       "      <td>0.16</td>\n",
       "    </tr>\n",
       "    <tr>\n",
       "      <th>1</th>\n",
       "      <td>1941</td>\n",
       "      <td>0.17</td>\n",
       "    </tr>\n",
       "    <tr>\n",
       "      <th>2</th>\n",
       "      <td>1942</td>\n",
       "      <td>0.19</td>\n",
       "    </tr>\n",
       "    <tr>\n",
       "      <th>3</th>\n",
       "      <td>1943</td>\n",
       "      <td>0.20</td>\n",
       "    </tr>\n",
       "    <tr>\n",
       "      <th>4</th>\n",
       "      <td>1944</td>\n",
       "      <td>0.20</td>\n",
       "    </tr>\n",
       "    <tr>\n",
       "      <th>...</th>\n",
       "      <td>...</td>\n",
       "      <td>...</td>\n",
       "    </tr>\n",
       "    <tr>\n",
       "      <th>71</th>\n",
       "      <td>2011</td>\n",
       "      <td>2.56</td>\n",
       "    </tr>\n",
       "    <tr>\n",
       "      <th>72</th>\n",
       "      <td>2012</td>\n",
       "      <td>2.62</td>\n",
       "    </tr>\n",
       "    <tr>\n",
       "      <th>73</th>\n",
       "      <td>2013</td>\n",
       "      <td>2.65</td>\n",
       "    </tr>\n",
       "    <tr>\n",
       "      <th>74</th>\n",
       "      <td>2014</td>\n",
       "      <td>2.70</td>\n",
       "    </tr>\n",
       "    <tr>\n",
       "      <th>75</th>\n",
       "      <td>2015</td>\n",
       "      <td>2.70</td>\n",
       "    </tr>\n",
       "  </tbody>\n",
       "</table>\n",
       "<p>76 rows × 2 columns</p>\n",
       "</div>"
      ],
      "text/plain": [
       "    Year  Price\n",
       "0   1940   0.16\n",
       "1   1941   0.17\n",
       "2   1942   0.19\n",
       "3   1943   0.20\n",
       "4   1944   0.20\n",
       "..   ...    ...\n",
       "71  2011   2.56\n",
       "72  2012   2.62\n",
       "73  2013   2.65\n",
       "74  2014   2.70\n",
       "75  2015   2.70\n",
       "\n",
       "[76 rows x 2 columns]"
      ]
     },
     "execution_count": 69,
     "metadata": {},
     "output_type": "execute_result"
    }
   ],
   "source": [
    "df"
   ]
  },
  {
   "cell_type": "code",
   "execution_count": 70,
   "id": "3c1ed89a",
   "metadata": {},
   "outputs": [],
   "source": [
    "new_data = {'Year': [2016, 2017, 2018, 2019, 2020, 2021, 2022, 2023, 2024],\n",
    "            'Price': [2.74,2.81,2.88,2.92,2.99, 3.04, 3.28, 3.48, 3.59  ]}\n",
    "new_df = pd.DataFrame(new_data)"
   ]
  },
  {
   "cell_type": "code",
   "execution_count": 71,
   "id": "0c31eb05",
   "metadata": {},
   "outputs": [],
   "source": [
    "df = pd.concat([df, new_df], ignore_index=True)"
   ]
  },
  {
   "cell_type": "code",
   "execution_count": 72,
   "id": "d8e0f232",
   "metadata": {},
   "outputs": [
    {
     "data": {
      "text/html": [
       "<div>\n",
       "<style scoped>\n",
       "    .dataframe tbody tr th:only-of-type {\n",
       "        vertical-align: middle;\n",
       "    }\n",
       "\n",
       "    .dataframe tbody tr th {\n",
       "        vertical-align: top;\n",
       "    }\n",
       "\n",
       "    .dataframe thead th {\n",
       "        text-align: right;\n",
       "    }\n",
       "</style>\n",
       "<table border=\"1\" class=\"dataframe\">\n",
       "  <thead>\n",
       "    <tr style=\"text-align: right;\">\n",
       "      <th></th>\n",
       "      <th>Year</th>\n",
       "      <th>Price</th>\n",
       "    </tr>\n",
       "  </thead>\n",
       "  <tbody>\n",
       "    <tr>\n",
       "      <th>0</th>\n",
       "      <td>1940</td>\n",
       "      <td>0.16</td>\n",
       "    </tr>\n",
       "    <tr>\n",
       "      <th>1</th>\n",
       "      <td>1941</td>\n",
       "      <td>0.17</td>\n",
       "    </tr>\n",
       "    <tr>\n",
       "      <th>2</th>\n",
       "      <td>1942</td>\n",
       "      <td>0.19</td>\n",
       "    </tr>\n",
       "    <tr>\n",
       "      <th>3</th>\n",
       "      <td>1943</td>\n",
       "      <td>0.20</td>\n",
       "    </tr>\n",
       "    <tr>\n",
       "      <th>4</th>\n",
       "      <td>1944</td>\n",
       "      <td>0.20</td>\n",
       "    </tr>\n",
       "    <tr>\n",
       "      <th>...</th>\n",
       "      <td>...</td>\n",
       "      <td>...</td>\n",
       "    </tr>\n",
       "    <tr>\n",
       "      <th>80</th>\n",
       "      <td>2020</td>\n",
       "      <td>2.99</td>\n",
       "    </tr>\n",
       "    <tr>\n",
       "      <th>81</th>\n",
       "      <td>2021</td>\n",
       "      <td>3.04</td>\n",
       "    </tr>\n",
       "    <tr>\n",
       "      <th>82</th>\n",
       "      <td>2022</td>\n",
       "      <td>3.28</td>\n",
       "    </tr>\n",
       "    <tr>\n",
       "      <th>83</th>\n",
       "      <td>2023</td>\n",
       "      <td>3.48</td>\n",
       "    </tr>\n",
       "    <tr>\n",
       "      <th>84</th>\n",
       "      <td>2024</td>\n",
       "      <td>3.59</td>\n",
       "    </tr>\n",
       "  </tbody>\n",
       "</table>\n",
       "<p>85 rows × 2 columns</p>\n",
       "</div>"
      ],
      "text/plain": [
       "    Year  Price\n",
       "0   1940   0.16\n",
       "1   1941   0.17\n",
       "2   1942   0.19\n",
       "3   1943   0.20\n",
       "4   1944   0.20\n",
       "..   ...    ...\n",
       "80  2020   2.99\n",
       "81  2021   3.04\n",
       "82  2022   3.28\n",
       "83  2023   3.48\n",
       "84  2024   3.59\n",
       "\n",
       "[85 rows x 2 columns]"
      ]
     },
     "execution_count": 72,
     "metadata": {},
     "output_type": "execute_result"
    }
   ],
   "source": [
    "df"
   ]
  },
  {
   "cell_type": "code",
   "execution_count": 73,
   "id": "35f260fa",
   "metadata": {},
   "outputs": [],
   "source": [
    "df.reset_index(drop=True, inplace=True)"
   ]
  },
  {
   "cell_type": "code",
   "execution_count": 74,
   "id": "6d88aad4",
   "metadata": {},
   "outputs": [],
   "source": [
    "df.columns = ['ds','y']"
   ]
  },
  {
   "cell_type": "code",
   "execution_count": 92,
   "id": "60091540",
   "metadata": {},
   "outputs": [
    {
     "data": {
      "image/png": "[encoded data removed]",
      "text/plain": [
       "<Figure size 1800x600 with 1 Axes>"
      ]
     },
     "metadata": {},
     "output_type": "display_data"
    }
   ],
   "source": [
    "df.plot(x='ds',y='y',figsize=(18,6))\n",
    "plt.xlabel('Year')\n",
    "plt.ylabel('Price')\n",
    "plt.title('Price of Coffee: 1940 to 2024')\n",
    "\n",
    "# Display the plot\n",
    "plt.show()"
   ]
  },
  {
   "cell_type": "code",
   "execution_count": 76,
   "id": "79bc8b64",
   "metadata": {},
   "outputs": [],
   "source": [
    "train = df.iloc[:len(df)-20]\n",
    "test = df.iloc[len(df)-20:]"
   ]
  },
  {
   "cell_type": "code",
   "execution_count": 77,
   "id": "05c1cafe",
   "metadata": {},
   "outputs": [
    {
     "name": "stderr",
     "output_type": "stream",
     "text": [
      "19:37:15 - cmdstanpy - INFO - Chain [1] start processing\n",
      "19:37:15 - cmdstanpy - INFO - Chain [1] done processing\n"
     ]
    }
   ],
   "source": [
    "m = Prophet()\n",
    "m.fit(train)\n",
    "future = m.make_future_dataframe(periods=20, freq = \"Y\") #MS for monthly, H for hourly\n",
    "forecast = m.predict(future)"
   ]
  },
  {
   "cell_type": "code",
   "execution_count": 78,
   "id": "9012c0c0",
   "metadata": {},
   "outputs": [
    {
     "data": {
      "text/html": [
       "<div>\n",
       "<style scoped>\n",
       "    .dataframe tbody tr th:only-of-type {\n",
       "        vertical-align: middle;\n",
       "    }\n",
       "\n",
       "    .dataframe tbody tr th {\n",
       "        vertical-align: top;\n",
       "    }\n",
       "\n",
       "    .dataframe thead th {\n",
       "        text-align: right;\n",
       "    }\n",
       "</style>\n",
       "<table border=\"1\" class=\"dataframe\">\n",
       "  <thead>\n",
       "    <tr style=\"text-align: right;\">\n",
       "      <th></th>\n",
       "      <th>ds</th>\n",
       "      <th>trend</th>\n",
       "      <th>yhat_lower</th>\n",
       "      <th>yhat_upper</th>\n",
       "      <th>trend_lower</th>\n",
       "      <th>trend_upper</th>\n",
       "      <th>additive_terms</th>\n",
       "      <th>additive_terms_lower</th>\n",
       "      <th>additive_terms_upper</th>\n",
       "      <th>yearly</th>\n",
       "      <th>yearly_lower</th>\n",
       "      <th>yearly_upper</th>\n",
       "      <th>multiplicative_terms</th>\n",
       "      <th>multiplicative_terms_lower</th>\n",
       "      <th>multiplicative_terms_upper</th>\n",
       "      <th>yhat</th>\n",
       "    </tr>\n",
       "  </thead>\n",
       "  <tbody>\n",
       "    <tr>\n",
       "      <th>0</th>\n",
       "      <td>1940-01-01</td>\n",
       "      <td>0.143427</td>\n",
       "      <td>0.147014</td>\n",
       "      <td>0.186278</td>\n",
       "      <td>0.143427</td>\n",
       "      <td>0.143427</td>\n",
       "      <td>0.022099</td>\n",
       "      <td>0.022099</td>\n",
       "      <td>0.022099</td>\n",
       "      <td>0.022099</td>\n",
       "      <td>0.022099</td>\n",
       "      <td>0.022099</td>\n",
       "      <td>0.0</td>\n",
       "      <td>0.0</td>\n",
       "      <td>0.0</td>\n",
       "      <td>0.165526</td>\n",
       "    </tr>\n",
       "    <tr>\n",
       "      <th>1</th>\n",
       "      <td>1941-01-01</td>\n",
       "      <td>0.154479</td>\n",
       "      <td>0.157166</td>\n",
       "      <td>0.197361</td>\n",
       "      <td>0.154479</td>\n",
       "      <td>0.154479</td>\n",
       "      <td>0.023187</td>\n",
       "      <td>0.023187</td>\n",
       "      <td>0.023187</td>\n",
       "      <td>0.023187</td>\n",
       "      <td>0.023187</td>\n",
       "      <td>0.023187</td>\n",
       "      <td>0.0</td>\n",
       "      <td>0.0</td>\n",
       "      <td>0.0</td>\n",
       "      <td>0.177666</td>\n",
       "    </tr>\n",
       "    <tr>\n",
       "      <th>2</th>\n",
       "      <td>1942-01-01</td>\n",
       "      <td>0.165501</td>\n",
       "      <td>0.165483</td>\n",
       "      <td>0.205929</td>\n",
       "      <td>0.165501</td>\n",
       "      <td>0.165501</td>\n",
       "      <td>0.019951</td>\n",
       "      <td>0.019951</td>\n",
       "      <td>0.019951</td>\n",
       "      <td>0.019951</td>\n",
       "      <td>0.019951</td>\n",
       "      <td>0.019951</td>\n",
       "      <td>0.0</td>\n",
       "      <td>0.0</td>\n",
       "      <td>0.0</td>\n",
       "      <td>0.185453</td>\n",
       "    </tr>\n",
       "    <tr>\n",
       "      <th>3</th>\n",
       "      <td>1943-01-01</td>\n",
       "      <td>0.176523</td>\n",
       "      <td>0.176732</td>\n",
       "      <td>0.216186</td>\n",
       "      <td>0.176523</td>\n",
       "      <td>0.176523</td>\n",
       "      <td>0.019593</td>\n",
       "      <td>0.019593</td>\n",
       "      <td>0.019593</td>\n",
       "      <td>0.019593</td>\n",
       "      <td>0.019593</td>\n",
       "      <td>0.019593</td>\n",
       "      <td>0.0</td>\n",
       "      <td>0.0</td>\n",
       "      <td>0.0</td>\n",
       "      <td>0.196116</td>\n",
       "    </tr>\n",
       "    <tr>\n",
       "      <th>4</th>\n",
       "      <td>1944-01-01</td>\n",
       "      <td>0.187545</td>\n",
       "      <td>0.190098</td>\n",
       "      <td>0.231037</td>\n",
       "      <td>0.187545</td>\n",
       "      <td>0.187545</td>\n",
       "      <td>0.022099</td>\n",
       "      <td>0.022099</td>\n",
       "      <td>0.022099</td>\n",
       "      <td>0.022099</td>\n",
       "      <td>0.022099</td>\n",
       "      <td>0.022099</td>\n",
       "      <td>0.0</td>\n",
       "      <td>0.0</td>\n",
       "      <td>0.0</td>\n",
       "      <td>0.209644</td>\n",
       "    </tr>\n",
       "  </tbody>\n",
       "</table>\n",
       "</div>"
      ],
      "text/plain": [
       "          ds     trend  yhat_lower  yhat_upper  trend_lower  trend_upper  \\\n",
       "0 1940-01-01  0.143427    0.147014    0.186278     0.143427     0.143427   \n",
       "1 1941-01-01  0.154479    0.157166    0.197361     0.154479     0.154479   \n",
       "2 1942-01-01  0.165501    0.165483    0.205929     0.165501     0.165501   \n",
       "3 1943-01-01  0.176523    0.176732    0.216186     0.176523     0.176523   \n",
       "4 1944-01-01  0.187545    0.190098    0.231037     0.187545     0.187545   \n",
       "\n",
       "   additive_terms  additive_terms_lower  additive_terms_upper    yearly  \\\n",
       "0        0.022099              0.022099              0.022099  0.022099   \n",
       "1        0.023187              0.023187              0.023187  0.023187   \n",
       "2        0.019951              0.019951              0.019951  0.019951   \n",
       "3        0.019593              0.019593              0.019593  0.019593   \n",
       "4        0.022099              0.022099              0.022099  0.022099   \n",
       "\n",
       "   yearly_lower  yearly_upper  multiplicative_terms  \\\n",
       "0      0.022099      0.022099                   0.0   \n",
       "1      0.023187      0.023187                   0.0   \n",
       "2      0.019951      0.019951                   0.0   \n",
       "3      0.019593      0.019593                   0.0   \n",
       "4      0.022099      0.022099                   0.0   \n",
       "\n",
       "   multiplicative_terms_lower  multiplicative_terms_upper      yhat  \n",
       "0                         0.0                         0.0  0.165526  \n",
       "1                         0.0                         0.0  0.177666  \n",
       "2                         0.0                         0.0  0.185453  \n",
       "3                         0.0                         0.0  0.196116  \n",
       "4                         0.0                         0.0  0.209644  "
      ]
     },
     "execution_count": 78,
     "metadata": {},
     "output_type": "execute_result"
    }
   ],
   "source": [
    "forecast.head()"
   ]
  },
  {
   "cell_type": "code",
   "execution_count": 79,
   "id": "7b96ed0f",
   "metadata": {},
   "outputs": [
    {
     "data": {
      "text/html": [
       "<div>\n",
       "<style scoped>\n",
       "    .dataframe tbody tr th:only-of-type {\n",
       "        vertical-align: middle;\n",
       "    }\n",
       "\n",
       "    .dataframe tbody tr th {\n",
       "        vertical-align: top;\n",
       "    }\n",
       "\n",
       "    .dataframe thead th {\n",
       "        text-align: right;\n",
       "    }\n",
       "</style>\n",
       "<table border=\"1\" class=\"dataframe\">\n",
       "  <thead>\n",
       "    <tr style=\"text-align: right;\">\n",
       "      <th></th>\n",
       "      <th>ds</th>\n",
       "      <th>yhat</th>\n",
       "      <th>yhat_lower</th>\n",
       "      <th>yhat_upper</th>\n",
       "    </tr>\n",
       "  </thead>\n",
       "  <tbody>\n",
       "    <tr>\n",
       "      <th>80</th>\n",
       "      <td>2019-12-31</td>\n",
       "      <td>2.956016</td>\n",
       "      <td>2.810825</td>\n",
       "      <td>3.086382</td>\n",
       "    </tr>\n",
       "    <tr>\n",
       "      <th>81</th>\n",
       "      <td>2020-12-31</td>\n",
       "      <td>2.970854</td>\n",
       "      <td>2.806566</td>\n",
       "      <td>3.112698</td>\n",
       "    </tr>\n",
       "    <tr>\n",
       "      <th>82</th>\n",
       "      <td>2021-12-31</td>\n",
       "      <td>3.026624</td>\n",
       "      <td>2.852211</td>\n",
       "      <td>3.181222</td>\n",
       "    </tr>\n",
       "    <tr>\n",
       "      <th>83</th>\n",
       "      <td>2022-12-31</td>\n",
       "      <td>3.085190</td>\n",
       "      <td>2.894669</td>\n",
       "      <td>3.253156</td>\n",
       "    </tr>\n",
       "    <tr>\n",
       "      <th>84</th>\n",
       "      <td>2023-12-31</td>\n",
       "      <td>3.146519</td>\n",
       "      <td>2.943086</td>\n",
       "      <td>3.343469</td>\n",
       "    </tr>\n",
       "  </tbody>\n",
       "</table>\n",
       "</div>"
      ],
      "text/plain": [
       "           ds      yhat  yhat_lower  yhat_upper\n",
       "80 2019-12-31  2.956016    2.810825    3.086382\n",
       "81 2020-12-31  2.970854    2.806566    3.112698\n",
       "82 2021-12-31  3.026624    2.852211    3.181222\n",
       "83 2022-12-31  3.085190    2.894669    3.253156\n",
       "84 2023-12-31  3.146519    2.943086    3.343469"
      ]
     },
     "execution_count": 79,
     "metadata": {},
     "output_type": "execute_result"
    }
   ],
   "source": [
    "forecast[['ds', 'yhat', 'yhat_lower', 'yhat_upper']].tail()"
   ]
  },
  {
   "cell_type": "code",
   "execution_count": 80,
   "id": "4ffdc96e",
   "metadata": {},
   "outputs": [
    {
     "data": {
      "application/vnd.plotly.v1+json": {
       "config": {
        "plotlyServerURL": "https://plot.ly"
       },
       "data": [
        {
         "marker": {
          "color": "black",
          "size": 4
         },
         "mode": "markers",
         "name": "Actual",
         "type": "scatter",
         "x": [
          "1940-01-01T00:00:00",
          "1941-01-01T00:00:00",
          "1942-01-01T00:00:00",
          "1943-01-01T00:00:00",
          "1944-01-01T00:00:00",
          "1945-01-01T00:00:00",
          "1946-01-01T00:00:00",
          "1947-01-01T00:00:00",
          "1948-01-01T00:00:00",
          "1949-01-01T00:00:00",
          "1950-01-01T00:00:00",
          "1951-01-01T00:00:00",
          "1952-01-01T00:00:00",
          "1953-01-01T00:00:00",
          "1954-01-01T00:00:00",
          "1955-01-01T00:00:00",
          "1956-01-01T00:00:00",
          "1957-01-01T00:00:00",
          "1958-01-01T00:00:00",
          "1959-01-01T00:00:00",
          "1960-01-01T00:00:00",
          "1961-01-01T00:00:00",
          "1962-01-01T00:00:00",
          "1963-01-01T00:00:00",
          "1964-01-01T00:00:00",
          "1965-01-01T00:00:00",
          "1966-01-01T00:00:00",
          "1967-01-01T00:00:00",
          "1968-01-01T00:00:00",
          "1969-01-01T00:00:00",
          "1970-01-01T00:00:00",
          "1971-01-01T00:00:00",
          "1972-01-01T00:00:00",
          "1973-01-01T00:00:00",
          "1974-01-01T00:00:00",
          "1975-01-01T00:00:00",
          "1976-01-01T00:00:00",
          "1977-01-01T00:00:00",
          "1978-01-01T00:00:00",
          "1979-01-01T00:00:00",
          "1980-01-01T00:00:00",
          "1981-01-01T00:00:00",
          "1982-01-01T00:00:00",
          "1983-01-01T00:00:00",
          "1984-01-01T00:00:00",
          "1985-01-01T00:00:00",
          "1986-01-01T00:00:00",
          "1987-01-01T00:00:00",
          "1988-01-01T00:00:00",
          "1989-01-01T00:00:00",
          "1990-01-01T00:00:00",
          "1991-01-01T00:00:00",
          "1992-01-01T00:00:00",
          "1993-01-01T00:00:00",
          "1994-01-01T00:00:00",
          "1995-01-01T00:00:00",
          "1996-01-01T00:00:00",
          "1997-01-01T00:00:00",
          "1998-01-01T00:00:00",
          "1999-01-01T00:00:00",
          "2000-01-01T00:00:00",
          "2001-01-01T00:00:00",
          "2002-01-01T00:00:00",
          "2003-01-01T00:00:00",
          "2004-01-01T00:00:00"
         ],
         "y": [
          0.16,
          0.17,
          0.19,
          0.2,
          0.2,
          0.21,
          0.22,
          0.25,
          0.27,
          0.27,
          0.27,
          0.3,
          0.3,
          0.3,
          0.31,
          0.31,
          0.31,
          0.32,
          0.33,
          0.33,
          0.34,
          0.34,
          0.34,
          0.35,
          0.35,
          0.36,
          0.37,
          0.38,
          0.4,
          0.42,
          0.44,
          0.46,
          0.48,
          0.51,
          0.56,
          0.61,
          0.65,
          0.69,
          0.74,
          0.83,
          0.94,
          1.04,
          1.1,
          1.13,
          1.18,
          1.23,
          1.25,
          1.29,
          1.35,
          1.41,
          1.49,
          1.55,
          1.6,
          1.65,
          1.69,
          1.74,
          1.79,
          1.83,
          1.86,
          1.9,
          1.96,
          2.02,
          2.05,
          2.1,
          2.15
         ]
        },
        {
         "hoverinfo": "skip",
         "line": {
          "width": 0
         },
         "mode": "lines",
         "type": "scatter",
         "x": [
          "1940-01-01T00:00:00",
          "1941-01-01T00:00:00",
          "1942-01-01T00:00:00",
          "1943-01-01T00:00:00",
          "1944-01-01T00:00:00",
          "1945-01-01T00:00:00",
          "1946-01-01T00:00:00",
          "1947-01-01T00:00:00",
          "1948-01-01T00:00:00",
          "1949-01-01T00:00:00",
          "1950-01-01T00:00:00",
          "1951-01-01T00:00:00",
          "1952-01-01T00:00:00",
          "1953-01-01T00:00:00",
          "1954-01-01T00:00:00",
          "1955-01-01T00:00:00",
          "1956-01-01T00:00:00",
          "1957-01-01T00:00:00",
          "1958-01-01T00:00:00",
          "1959-01-01T00:00:00",
          "1960-01-01T00:00:00",
          "1961-01-01T00:00:00",
          "1962-01-01T00:00:00",
          "1963-01-01T00:00:00",
          "1964-01-01T00:00:00",
          "1965-01-01T00:00:00",
          "1966-01-01T00:00:00",
          "1967-01-01T00:00:00",
          "1968-01-01T00:00:00",
          "1969-01-01T00:00:00",
          "1970-01-01T00:00:00",
          "1971-01-01T00:00:00",
          "1972-01-01T00:00:00",
          "1973-01-01T00:00:00",
          "1974-01-01T00:00:00",
          "1975-01-01T00:00:00",
          "1976-01-01T00:00:00",
          "1977-01-01T00:00:00",
          "1978-01-01T00:00:00",
          "1979-01-01T00:00:00",
          "1980-01-01T00:00:00",
          "1981-01-01T00:00:00",
          "1982-01-01T00:00:00",
          "1983-01-01T00:00:00",
          "1984-01-01T00:00:00",
          "1985-01-01T00:00:00",
          "1986-01-01T00:00:00",
          "1987-01-01T00:00:00",
          "1988-01-01T00:00:00",
          "1989-01-01T00:00:00",
          "1990-01-01T00:00:00",
          "1991-01-01T00:00:00",
          "1992-01-01T00:00:00",
          "1993-01-01T00:00:00",
          "1994-01-01T00:00:00",
          "1995-01-01T00:00:00",
          "1996-01-01T00:00:00",
          "1997-01-01T00:00:00",
          "1998-01-01T00:00:00",
          "1999-01-01T00:00:00",
          "2000-01-01T00:00:00",
          "2001-01-01T00:00:00",
          "2002-01-01T00:00:00",
          "2003-01-01T00:00:00",
          "2004-01-01T00:00:00",
          "2004-12-31T00:00:00",
          "2005-12-31T00:00:00",
          "2006-12-31T00:00:00",
          "2007-12-31T00:00:00",
          "2008-12-31T00:00:00",
          "2009-12-31T00:00:00",
          "2010-12-31T00:00:00",
          "2011-12-31T00:00:00",
          "2012-12-31T00:00:00",
          "2013-12-31T00:00:00",
          "2014-12-31T00:00:00",
          "2015-12-31T00:00:00",
          "2016-12-31T00:00:00",
          "2017-12-31T00:00:00",
          "2018-12-31T00:00:00",
          "2019-12-31T00:00:00",
          "2020-12-31T00:00:00",
          "2021-12-31T00:00:00",
          "2022-12-31T00:00:00",
          "2023-12-31T00:00:00"
         ],
         "y": [
          0.14701397961965196,
          0.15716582462720202,
          0.16548262151267937,
          0.17673230514593768,
          0.1900981964397319,
          0.20121574067113535,
          0.21066106061288253,
          0.2195804520844282,
          0.23405303792653884,
          0.24703491580915932,
          0.253889963596674,
          0.25844901962219985,
          0.2705480526778215,
          0.27771322803004295,
          0.28008116936363314,
          0.28559978391428914,
          0.294668703627534,
          0.3013757968607864,
          0.30296872845891293,
          0.31034073610625573,
          0.31802063217491694,
          0.32561141852215886,
          0.32685575975457154,
          0.3319973155174473,
          0.34015758362154674,
          0.3483698615113068,
          0.3504394469081547,
          0.35623710862123315,
          0.3797831777744621,
          0.4004396172576878,
          0.41764303770758265,
          0.4384738820914416,
          0.46567913249415227,
          0.4881544978978642,
          0.5375542744620304,
          0.5855176415709344,
          0.6425135376533584,
          0.700549705883186,
          0.7631274538039007,
          0.829145568583196,
          0.8992119345987168,
          0.9675685314086395,
          1.0301482502258275,
          1.094930523420389,
          1.151162507551371,
          1.2035111907286742,
          1.2538947260305373,
          1.3051743993833913,
          1.3613780128351418,
          1.4123943524206952,
          1.4630358817760263,
          1.5145667006561971,
          1.5629746042533432,
          1.6126964182120542,
          1.6570804200053617,
          1.7044642880535907,
          1.7546715584155979,
          1.8022338237713869,
          1.8472528397670835,
          1.8950978320983087,
          1.9460516578246243,
          1.9924194571687766,
          2.0386970129906907,
          2.0854167983529144,
          2.1369814524956405,
          2.1859704310049857,
          2.243427263461865,
          2.299830163663031,
          2.358000756337394,
          2.3713917451900177,
          2.4171362319297174,
          2.471590061561457,
          2.5213452352431656,
          2.530489628462287,
          2.575060764341361,
          2.621686796306901,
          2.668670934968798,
          2.6735397339426226,
          2.718498616876875,
          2.761179423727147,
          2.8108252128390636,
          2.8065656808859725,
          2.8522110295285543,
          2.8946692901607025,
          2.943086288143245
         ]
        },
        {
         "fill": "tonexty",
         "fillcolor": "rgba(0, 114, 178, 0.2)",
         "line": {
          "color": "#0072B2",
          "width": 2
         },
         "mode": "lines",
         "name": "Predicted",
         "type": "scatter",
         "x": [
          "1940-01-01T00:00:00",
          "1941-01-01T00:00:00",
          "1942-01-01T00:00:00",
          "1943-01-01T00:00:00",
          "1944-01-01T00:00:00",
          "1945-01-01T00:00:00",
          "1946-01-01T00:00:00",
          "1947-01-01T00:00:00",
          "1948-01-01T00:00:00",
          "1949-01-01T00:00:00",
          "1950-01-01T00:00:00",
          "1951-01-01T00:00:00",
          "1952-01-01T00:00:00",
          "1953-01-01T00:00:00",
          "1954-01-01T00:00:00",
          "1955-01-01T00:00:00",
          "1956-01-01T00:00:00",
          "1957-01-01T00:00:00",
          "1958-01-01T00:00:00",
          "1959-01-01T00:00:00",
          "1960-01-01T00:00:00",
          "1961-01-01T00:00:00",
          "1962-01-01T00:00:00",
          "1963-01-01T00:00:00",
          "1964-01-01T00:00:00",
          "1965-01-01T00:00:00",
          "1966-01-01T00:00:00",
          "1967-01-01T00:00:00",
          "1968-01-01T00:00:00",
          "1969-01-01T00:00:00",
          "1970-01-01T00:00:00",
          "1971-01-01T00:00:00",
          "1972-01-01T00:00:00",
          "1973-01-01T00:00:00",
          "1974-01-01T00:00:00",
          "1975-01-01T00:00:00",
          "1976-01-01T00:00:00",
          "1977-01-01T00:00:00",
          "1978-01-01T00:00:00",
          "1979-01-01T00:00:00",
          "1980-01-01T00:00:00",
          "1981-01-01T00:00:00",
          "1982-01-01T00:00:00",
          "1983-01-01T00:00:00",
          "1984-01-01T00:00:00",
          "1985-01-01T00:00:00",
          "1986-01-01T00:00:00",
          "1987-01-01T00:00:00",
          "1988-01-01T00:00:00",
          "1989-01-01T00:00:00",
          "1990-01-01T00:00:00",
          "1991-01-01T00:00:00",
          "1992-01-01T00:00:00",
          "1993-01-01T00:00:00",
          "1994-01-01T00:00:00",
          "1995-01-01T00:00:00",
          "1996-01-01T00:00:00",
          "1997-01-01T00:00:00",
          "1998-01-01T00:00:00",
          "1999-01-01T00:00:00",
          "2000-01-01T00:00:00",
          "2001-01-01T00:00:00",
          "2002-01-01T00:00:00",
          "2003-01-01T00:00:00",
          "2004-01-01T00:00:00",
          "2004-12-31T00:00:00",
          "2005-12-31T00:00:00",
          "2006-12-31T00:00:00",
          "2007-12-31T00:00:00",
          "2008-12-31T00:00:00",
          "2009-12-31T00:00:00",
          "2010-12-31T00:00:00",
          "2011-12-31T00:00:00",
          "2012-12-31T00:00:00",
          "2013-12-31T00:00:00",
          "2014-12-31T00:00:00",
          "2015-12-31T00:00:00",
          "2016-12-31T00:00:00",
          "2017-12-31T00:00:00",
          "2018-12-31T00:00:00",
          "2019-12-31T00:00:00",
          "2020-12-31T00:00:00",
          "2021-12-31T00:00:00",
          "2022-12-31T00:00:00",
          "2023-12-31T00:00:00"
         ],
         "y": [
          0.16552613191346333,
          0.17766636003706143,
          0.1854525313291645,
          0.19611599182152822,
          0.20964399823578,
          0.22178422665303388,
          0.22957039823801254,
          0.24023385804424296,
          0.25376186377236243,
          0.26587613173451147,
          0.2736364137946556,
          0.2813163137896906,
          0.29186075970657416,
          0.29873141435638406,
          0.30126240991647346,
          0.30667043883157763,
          0.3149430136685774,
          0.3218134116026461,
          0.32434415114840137,
          0.3297521798903982,
          0.33802475455422865,
          0.3448951527994649,
          0.34742589265556556,
          0.3528397563300519,
          0.36111816592638873,
          0.36823466098635504,
          0.37101082526151374,
          0.3766642783883254,
          0.399580472690678,
          0.4211346101145988,
          0.4383407495677634,
          0.45842417787259787,
          0.48470074294566023,
          0.5096244576355625,
          0.5560118931027955,
          0.6052766174217129,
          0.6633791659072362,
          0.7202160584847201,
          0.7836113119490439,
          0.849883854265046,
          0.9190209427803874,
          0.9869226070041375,
          1.0502958062025898,
          1.1165462942526914,
          1.1712342621205438,
          1.224647219064933,
          1.273593350426266,
          1.325416770639286,
          1.3801047365749757,
          1.433517691581908,
          1.482463822737079,
          1.5342872427439598,
          1.58438648913125,
          1.6331981527554473,
          1.6775555643692137,
          1.7247902648346618,
          1.774889511221952,
          1.8237011748461496,
          1.8680585864599104,
          1.915293286925368,
          1.9653925333127136,
          2.0142041969368893,
          2.0585616085506246,
          2.105796309016063,
          2.1558955554033417,
          2.2088415448633705,
          2.264611451920738,
          2.3231774742389146,
          2.3845068867729617,
          2.3993445669541935,
          2.4551144740115514,
          2.5136804963293713,
          2.5750099088634237,
          2.5898475890449553,
          2.6456174961021333,
          2.704183518420121,
          2.7655129309542996,
          2.780350611135574,
          2.8361205181929092,
          2.8946865405108873,
          2.956015953044842,
          2.970853633226385,
          3.02662354028354,
          3.0851895626016246,
          3.1465189751357427
         ]
        },
        {
         "fill": "tonexty",
         "fillcolor": "rgba(0, 114, 178, 0.2)",
         "hoverinfo": "skip",
         "line": {
          "width": 0
         },
         "mode": "lines",
         "type": "scatter",
         "x": [
          "1940-01-01T00:00:00",
          "1941-01-01T00:00:00",
          "1942-01-01T00:00:00",
          "1943-01-01T00:00:00",
          "1944-01-01T00:00:00",
          "1945-01-01T00:00:00",
          "1946-01-01T00:00:00",
          "1947-01-01T00:00:00",
          "1948-01-01T00:00:00",
          "1949-01-01T00:00:00",
          "1950-01-01T00:00:00",
          "1951-01-01T00:00:00",
          "1952-01-01T00:00:00",
          "1953-01-01T00:00:00",
          "1954-01-01T00:00:00",
          "1955-01-01T00:00:00",
          "1956-01-01T00:00:00",
          "1957-01-01T00:00:00",
          "1958-01-01T00:00:00",
          "1959-01-01T00:00:00",
          "1960-01-01T00:00:00",
          "1961-01-01T00:00:00",
          "1962-01-01T00:00:00",
          "1963-01-01T00:00:00",
          "1964-01-01T00:00:00",
          "1965-01-01T00:00:00",
          "1966-01-01T00:00:00",
          "1967-01-01T00:00:00",
          "1968-01-01T00:00:00",
          "1969-01-01T00:00:00",
          "1970-01-01T00:00:00",
          "1971-01-01T00:00:00",
          "1972-01-01T00:00:00",
          "1973-01-01T00:00:00",
          "1974-01-01T00:00:00",
          "1975-01-01T00:00:00",
          "1976-01-01T00:00:00",
          "1977-01-01T00:00:00",
          "1978-01-01T00:00:00",
          "1979-01-01T00:00:00",
          "1980-01-01T00:00:00",
          "1981-01-01T00:00:00",
          "1982-01-01T00:00:00",
          "1983-01-01T00:00:00",
          "1984-01-01T00:00:00",
          "1985-01-01T00:00:00",
          "1986-01-01T00:00:00",
          "1987-01-01T00:00:00",
          "1988-01-01T00:00:00",
          "1989-01-01T00:00:00",
          "1990-01-01T00:00:00",
          "1991-01-01T00:00:00",
          "1992-01-01T00:00:00",
          "1993-01-01T00:00:00",
          "1994-01-01T00:00:00",
          "1995-01-01T00:00:00",
          "1996-01-01T00:00:00",
          "1997-01-01T00:00:00",
          "1998-01-01T00:00:00",
          "1999-01-01T00:00:00",
          "2000-01-01T00:00:00",
          "2001-01-01T00:00:00",
          "2002-01-01T00:00:00",
          "2003-01-01T00:00:00",
          "2004-01-01T00:00:00",
          "2004-12-31T00:00:00",
          "2005-12-31T00:00:00",
          "2006-12-31T00:00:00",
          "2007-12-31T00:00:00",
          "2008-12-31T00:00:00",
          "2009-12-31T00:00:00",
          "2010-12-31T00:00:00",
          "2011-12-31T00:00:00",
          "2012-12-31T00:00:00",
          "2013-12-31T00:00:00",
          "2014-12-31T00:00:00",
          "2015-12-31T00:00:00",
          "2016-12-31T00:00:00",
          "2017-12-31T00:00:00",
          "2018-12-31T00:00:00",
          "2019-12-31T00:00:00",
          "2020-12-31T00:00:00",
          "2021-12-31T00:00:00",
          "2022-12-31T00:00:00",
          "2023-12-31T00:00:00"
         ],
         "y": [
          0.18627779216978627,
          0.1973606261606874,
          0.20592895703904365,
          0.21618640507799666,
          0.23103710280023462,
          0.2426291823938141,
          0.2513085655751501,
          0.2613440313682027,
          0.27408629200710527,
          0.28655236118394456,
          0.29478529822323146,
          0.3022819581247757,
          0.3114490403464294,
          0.31999419026251497,
          0.31973225870001926,
          0.3265171434410337,
          0.33540317143535814,
          0.34073854547348087,
          0.3431187379348659,
          0.3488487358304907,
          0.35820709197485867,
          0.3656557941040843,
          0.36670211058139857,
          0.3739533280794933,
          0.3817391516091157,
          0.3891105331825817,
          0.39233413682146295,
          0.3986165642308898,
          0.4198965727383323,
          0.44103730655230505,
          0.45885368154275374,
          0.4790857757922223,
          0.5047428817183736,
          0.5289305596554379,
          0.5761881374078145,
          0.625617786922429,
          0.6842663217540562,
          0.7407295555589682,
          0.8024649487218255,
          0.8698753863968061,
          0.9394556993102664,
          1.008556258960117,
          1.070359603591176,
          1.1366099434286023,
          1.192653283987785,
          1.245191573541022,
          1.2924381524487523,
          1.3454932891913756,
          1.400632558919688,
          1.4536272894728268,
          1.5032145740909573,
          1.5537513455758347,
          1.6038940814630251,
          1.6537383232825875,
          1.6990731437155628,
          1.7443570475824648,
          1.795695890420999,
          1.8437786404548973,
          1.8893315944401596,
          1.9351530690045236,
          1.9864415536281907,
          2.0320150263995953,
          2.079255730949885,
          2.125623834686826,
          2.1758558719344836,
          2.2292394107864593,
          2.286283764893514,
          2.347151590563474,
          2.409400582841145,
          2.4290317663325904,
          2.490165169723194,
          2.5566509472341865,
          2.6238796144141836,
          2.644634212447883,
          2.712674189396454,
          2.7798845050089462,
          2.847314610429215,
          2.8740368371305625,
          2.9427574229974875,
          3.0137759579900343,
          3.0863816272267934,
          3.11269803539915,
          3.1812222915934663,
          3.2531564462880675,
          3.343469022350509
         ]
        }
       ],
       "layout": {
        "height": 600,
        "showlegend": false,
        "template": {
         "data": {
          "bar": [
           {
            "error_x": {
             "color": "#2a3f5f"
            },
            "error_y": {
             "color": "#2a3f5f"
            },
            "marker": {
             "line": {
              "color": "#E5ECF6",
              "width": 0.5
             },
             "pattern": {
              "fillmode": "overlay",
              "size": 10,
              "solidity": 0.2
             }
            },
            "type": "bar"
           }
          ],
          "barpolar": [
           {
            "marker": {
             "line": {
              "color": "#E5ECF6",
              "width": 0.5
             },
             "pattern": {
              "fillmode": "overlay",
              "size": 10,
              "solidity": 0.2
             }
            },
            "type": "barpolar"
           }
          ],
          "carpet": [
           {
            "aaxis": {
             "endlinecolor": "#2a3f5f",
             "gridcolor": "white",
             "linecolor": "white",
             "minorgridcolor": "white",
             "startlinecolor": "#2a3f5f"
            },
            "baxis": {
             "endlinecolor": "#2a3f5f",
             "gridcolor": "white",
             "linecolor": "white",
             "minorgridcolor": "white",
             "startlinecolor": "#2a3f5f"
            },
            "type": "carpet"
           }
          ],
          "choropleth": [
           {
            "colorbar": {
             "outlinewidth": 0,
             "ticks": ""
            },
            "type": "choropleth"
           }
          ],
          "contour": [
           {
            "colorbar": {
             "outlinewidth": 0,
             "ticks": ""
            },
            "colorscale": [
             [
              0,
              "#0d0887"
             ],
             [
              0.1111111111111111,
              "#46039f"
             ],
             [
              0.2222222222222222,
              "#7201a8"
             ],
             [
              0.3333333333333333,
              "#9c179e"
             ],
             [
              0.4444444444444444,
              "#bd3786"
             ],
             [
              0.5555555555555556,
              "#d8576b"
             ],
             [
              0.6666666666666666,
              "#ed7953"
             ],
             [
              0.7777777777777778,
              "#fb9f3a"
             ],
             [
              0.8888888888888888,
              "#fdca26"
             ],
             [
              1,
              "#f0f921"
             ]
            ],
            "type": "contour"
           }
          ],
          "contourcarpet": [
           {
            "colorbar": {
             "outlinewidth": 0,
             "ticks": ""
            },
            "type": "contourcarpet"
           }
          ],
          "heatmap": [
           {
            "colorbar": {
             "outlinewidth": 0,
             "ticks": ""
            },
            "colorscale": [
             [
              0,
              "#0d0887"
             ],
             [
              0.1111111111111111,
              "#46039f"
             ],
             [
              0.2222222222222222,
              "#7201a8"
             ],
             [
              0.3333333333333333,
              "#9c179e"
             ],
             [
              0.4444444444444444,
              "#bd3786"
             ],
             [
              0.5555555555555556,
              "#d8576b"
             ],
             [
              0.6666666666666666,
              "#ed7953"
             ],
             [
              0.7777777777777778,
              "#fb9f3a"
             ],
             [
              0.8888888888888888,
              "#fdca26"
             ],
             [
              1,
              "#f0f921"
             ]
            ],
            "type": "heatmap"
           }
          ],
          "heatmapgl": [
           {
            "colorbar": {
             "outlinewidth": 0,
             "ticks": ""
            },
            "colorscale": [
             [
              0,
              "#0d0887"
             ],
             [
              0.1111111111111111,
              "#46039f"
             ],
             [
              0.2222222222222222,
              "#7201a8"
             ],
             [
              0.3333333333333333,
              "#9c179e"
             ],
             [
              0.4444444444444444,
              "#bd3786"
             ],
             [
              0.5555555555555556,
              "#d8576b"
             ],
             [
              0.6666666666666666,
              "#ed7953"
             ],
             [
              0.7777777777777778,
              "#fb9f3a"
             ],
             [
              0.8888888888888888,
              "#fdca26"
             ],
             [
              1,
              "#f0f921"
             ]
            ],
            "type": "heatmapgl"
           }
          ],
          "histogram": [
           {
            "marker": {
             "pattern": {
              "fillmode": "overlay",
              "size": 10,
              "solidity": 0.2
             }
            },
            "type": "histogram"
           }
          ],
          "histogram2d": [
           {
            "colorbar": {
             "outlinewidth": 0,
             "ticks": ""
            },
            "colorscale": [
             [
              0,
              "#0d0887"
             ],
             [
              0.1111111111111111,
              "#46039f"
             ],
             [
              0.2222222222222222,
              "#7201a8"
             ],
             [
              0.3333333333333333,
              "#9c179e"
             ],
             [
              0.4444444444444444,
              "#bd3786"
             ],
             [
              0.5555555555555556,
              "#d8576b"
             ],
             [
              0.6666666666666666,
              "#ed7953"
             ],
             [
              0.7777777777777778,
              "#fb9f3a"
             ],
             [
              0.8888888888888888,
              "#fdca26"
             ],
             [
              1,
              "#f0f921"
             ]
            ],
            "type": "histogram2d"
           }
          ],
          "histogram2dcontour": [
           {
            "colorbar": {
             "outlinewidth": 0,
             "ticks": ""
            },
            "colorscale": [
             [
              0,
              "#0d0887"
             ],
             [
              0.1111111111111111,
              "#46039f"
             ],
             [
              0.2222222222222222,
              "#7201a8"
             ],
             [
              0.3333333333333333,
              "#9c179e"
             ],
             [
              0.4444444444444444,
              "#bd3786"
             ],
             [
              0.5555555555555556,
              "#d8576b"
             ],
             [
              0.6666666666666666,
              "#ed7953"
             ],
             [
              0.7777777777777778,
              "#fb9f3a"
             ],
             [
              0.8888888888888888,
              "#fdca26"
             ],
             [
              1,
              "#f0f921"
             ]
            ],
            "type": "histogram2dcontour"
           }
          ],
          "mesh3d": [
           {
            "colorbar": {
             "outlinewidth": 0,
             "ticks": ""
            },
            "type": "mesh3d"
           }
          ],
          "parcoords": [
           {
            "line": {
             "colorbar": {
              "outlinewidth": 0,
              "ticks": ""
             }
            },
            "type": "parcoords"
           }
          ],
          "pie": [
           {
            "automargin": true,
            "type": "pie"
           }
          ],
          "scatter": [
           {
            "fillpattern": {
             "fillmode": "overlay",
             "size": 10,
             "solidity": 0.2
            },
            "type": "scatter"
           }
          ],
          "scatter3d": [
           {
            "line": {
             "colorbar": {
              "outlinewidth": 0,
              "ticks": ""
             }
            },
            "marker": {
             "colorbar": {
              "outlinewidth": 0,
              "ticks": ""
             }
            },
            "type": "scatter3d"
           }
          ],
          "scattercarpet": [
           {
            "marker": {
             "colorbar": {
              "outlinewidth": 0,
              "ticks": ""
             }
            },
            "type": "scattercarpet"
           }
          ],
          "scattergeo": [
           {
            "marker": {
             "colorbar": {
              "outlinewidth": 0,
              "ticks": ""
             }
            },
            "type": "scattergeo"
           }
          ],
          "scattergl": [
           {
            "marker": {
             "colorbar": {
              "outlinewidth": 0,
              "ticks": ""
             }
            },
            "type": "scattergl"
           }
          ],
          "scattermapbox": [
           {
            "marker": {
             "colorbar": {
              "outlinewidth": 0,
              "ticks": ""
             }
            },
            "type": "scattermapbox"
           }
          ],
          "scatterpolar": [
           {
            "marker": {
             "colorbar": {
              "outlinewidth": 0,
              "ticks": ""
             }
            },
            "type": "scatterpolar"
           }
          ],
          "scatterpolargl": [
           {
            "marker": {
             "colorbar": {
              "outlinewidth": 0,
              "ticks": ""
             }
            },
            "type": "scatterpolargl"
           }
          ],
          "scatterternary": [
           {
            "marker": {
             "colorbar": {
              "outlinewidth": 0,
              "ticks": ""
             }
            },
            "type": "scatterternary"
           }
          ],
          "surface": [
           {
            "colorbar": {
             "outlinewidth": 0,
             "ticks": ""
            },
            "colorscale": [
             [
              0,
              "#0d0887"
             ],
             [
              0.1111111111111111,
              "#46039f"
             ],
             [
              0.2222222222222222,
              "#7201a8"
             ],
             [
              0.3333333333333333,
              "#9c179e"
             ],
             [
              0.4444444444444444,
              "#bd3786"
             ],
             [
              0.5555555555555556,
              "#d8576b"
             ],
             [
              0.6666666666666666,
              "#ed7953"
             ],
             [
              0.7777777777777778,
              "#fb9f3a"
             ],
             [
              0.8888888888888888,
              "#fdca26"
             ],
             [
              1,
              "#f0f921"
             ]
            ],
            "type": "surface"
           }
          ],
          "table": [
           {
            "cells": {
             "fill": {
              "color": "#EBF0F8"
             },
             "line": {
              "color": "white"
             }
            },
            "header": {
             "fill": {
              "color": "#C8D4E3"
             },
             "line": {
              "color": "white"
             }
            },
            "type": "table"
           }
          ]
         },
         "layout": {
          "annotationdefaults": {
           "arrowcolor": "#2a3f5f",
           "arrowhead": 0,
           "arrowwidth": 1
          },
          "autotypenumbers": "strict",
          "coloraxis": {
           "colorbar": {
            "outlinewidth": 0,
            "ticks": ""
           }
          },
          "colorscale": {
           "diverging": [
            [
             0,
             "#8e0152"
            ],
            [
             0.1,
             "#c51b7d"
            ],
            [
             0.2,
             "#de77ae"
            ],
            [
             0.3,
             "#f1b6da"
            ],
            [
             0.4,
             "#fde0ef"
            ],
            [
             0.5,
             "#f7f7f7"
            ],
            [
             0.6,
             "#e6f5d0"
            ],
            [
             0.7,
             "#b8e186"
            ],
            [
             0.8,
             "#7fbc41"
            ],
            [
             0.9,
             "#4d9221"
            ],
            [
             1,
             "#276419"
            ]
           ],
           "sequential": [
            [
             0,
             "#0d0887"
            ],
            [
             0.1111111111111111,
             "#46039f"
            ],
            [
             0.2222222222222222,
             "#7201a8"
            ],
            [
             0.3333333333333333,
             "#9c179e"
            ],
            [
             0.4444444444444444,
             "#bd3786"
            ],
            [
             0.5555555555555556,
             "#d8576b"
            ],
            [
             0.6666666666666666,
             "#ed7953"
            ],
            [
             0.7777777777777778,
             "#fb9f3a"
            ],
            [
             0.8888888888888888,
             "#fdca26"
            ],
            [
             1,
             "#f0f921"
            ]
           ],
           "sequentialminus": [
            [
             0,
             "#0d0887"
            ],
            [
             0.1111111111111111,
             "#46039f"
            ],
            [
             0.2222222222222222,
             "#7201a8"
            ],
            [
             0.3333333333333333,
             "#9c179e"
            ],
            [
             0.4444444444444444,
             "#bd3786"
            ],
            [
             0.5555555555555556,
             "#d8576b"
            ],
            [
             0.6666666666666666,
             "#ed7953"
            ],
            [
             0.7777777777777778,
             "#fb9f3a"
            ],
            [
             0.8888888888888888,
             "#fdca26"
            ],
            [
             1,
             "#f0f921"
            ]
           ]
          },
          "colorway": [
           "#636efa",
           "#EF553B",
           "#00cc96",
           "#ab63fa",
           "#FFA15A",
           "#19d3f3",
           "#FF6692",
           "#B6E880",
           "#FF97FF",
           "#FECB52"
          ],
          "font": {
           "color": "#2a3f5f"
          },
          "geo": {
           "bgcolor": "white",
           "lakecolor": "white",
           "landcolor": "#E5ECF6",
           "showlakes": true,
           "showland": true,
           "subunitcolor": "white"
          },
          "hoverlabel": {
           "align": "left"
          },
          "hovermode": "closest",
          "mapbox": {
           "style": "light"
          },
          "paper_bgcolor": "white",
          "plot_bgcolor": "#E5ECF6",
          "polar": {
           "angularaxis": {
            "gridcolor": "white",
            "linecolor": "white",
            "ticks": ""
           },
           "bgcolor": "#E5ECF6",
           "radialaxis": {
            "gridcolor": "white",
            "linecolor": "white",
            "ticks": ""
           }
          },
          "scene": {
           "xaxis": {
            "backgroundcolor": "#E5ECF6",
            "gridcolor": "white",
            "gridwidth": 2,
            "linecolor": "white",
            "showbackground": true,
            "ticks": "",
            "zerolinecolor": "white"
           },
           "yaxis": {
            "backgroundcolor": "#E5ECF6",
            "gridcolor": "white",
            "gridwidth": 2,
            "linecolor": "white",
            "showbackground": true,
            "ticks": "",
            "zerolinecolor": "white"
           },
           "zaxis": {
            "backgroundcolor": "#E5ECF6",
            "gridcolor": "white",
            "gridwidth": 2,
            "linecolor": "white",
            "showbackground": true,
            "ticks": "",
            "zerolinecolor": "white"
           }
          },
          "shapedefaults": {
           "line": {
            "color": "#2a3f5f"
           }
          },
          "ternary": {
           "aaxis": {
            "gridcolor": "white",
            "linecolor": "white",
            "ticks": ""
           },
           "baxis": {
            "gridcolor": "white",
            "linecolor": "white",
            "ticks": ""
           },
           "bgcolor": "#E5ECF6",
           "caxis": {
            "gridcolor": "white",
            "linecolor": "white",
            "ticks": ""
           }
          },
          "title": {
           "x": 0.05
          },
          "xaxis": {
           "automargin": true,
           "gridcolor": "white",
           "linecolor": "white",
           "ticks": "",
           "title": {
            "standoff": 15
           },
           "zerolinecolor": "white",
           "zerolinewidth": 2
          },
          "yaxis": {
           "automargin": true,
           "gridcolor": "white",
           "linecolor": "white",
           "ticks": "",
           "title": {
            "standoff": 15
           },
           "zerolinecolor": "white",
           "zerolinewidth": 2
          }
         }
        },
        "width": 900,
        "xaxis": {
         "rangeselector": {
          "buttons": [
           {
            "count": 7,
            "label": "1w",
            "step": "day",
            "stepmode": "backward"
           },
           {
            "count": 1,
            "label": "1m",
            "step": "month",
            "stepmode": "backward"
           },
           {
            "count": 6,
            "label": "6m",
            "step": "month",
            "stepmode": "backward"
           },
           {
            "count": 1,
            "label": "1y",
            "step": "year",
            "stepmode": "backward"
           },
           {
            "step": "all"
           }
          ]
         },
         "rangeslider": {
          "visible": true
         },
         "title": {
          "text": "ds"
         },
         "type": "date"
        },
        "yaxis": {
         "title": {
          "text": "y"
         }
        }
       }
      },
      "text/html": [
       "<div>                            <div id=\"788098f7-221c-4737-850c-f60f418d74ce\" class=\"plotly-graph-div\" style=\"height:600px; width:900px;\"></div>            <script type=\"text/javascript\">                require([\"plotly\"], function(Plotly) {                    window.PLOTLYENV=window.PLOTLYENV || {};                                    if (document.getElementById(\"788098f7-221c-4737-850c-f60f418d74ce\")) {                    Plotly.newPlot(                        \"788098f7-221c-4737-850c-f60f418d74ce\",                        [{\"marker\":{\"color\":\"black\",\"size\":4},\"mode\":\"markers\",\"name\":\"Actual\",\"x\":[\"1940-01-01T00:00:00\",\"1941-01-01T00:00:00\",\"1942-01-01T00:00:00\",\"1943-01-01T00:00:00\",\"1944-01-01T00:00:00\",\"1945-01-01T00:00:00\",\"1946-01-01T00:00:00\",\"1947-01-01T00:00:00\",\"1948-01-01T00:00:00\",\"1949-01-01T00:00:00\",\"1950-01-01T00:00:00\",\"1951-01-01T00:00:00\",\"1952-01-01T00:00:00\",\"1953-01-01T00:00:00\",\"1954-01-01T00:00:00\",\"1955-01-01T00:00:00\",\"1956-01-01T00:00:00\",\"1957-01-01T00:00:00\",\"1958-01-01T00:00:00\",\"1959-01-01T00:00:00\",\"1960-01-01T00:00:00\",\"1961-01-01T00:00:00\",\"1962-01-01T00:00:00\",\"1963-01-01T00:00:00\",\"1964-01-01T00:00:00\",\"1965-01-01T00:00:00\",\"1966-01-01T00:00:00\",\"1967-01-01T00:00:00\",\"1968-01-01T00:00:00\",\"1969-01-01T00:00:00\",\"1970-01-01T00:00:00\",\"1971-01-01T00:00:00\",\"1972-01-01T00:00:00\",\"1973-01-01T00:00:00\",\"1974-01-01T00:00:00\",\"1975-01-01T00:00:00\",\"1976-01-01T00:00:00\",\"1977-01-01T00:00:00\",\"1978-01-01T00:00:00\",\"1979-01-01T00:00:00\",\"1980-01-01T00:00:00\",\"1981-01-01T00:00:00\",\"1982-01-01T00:00:00\",\"1983-01-01T00:00:00\",\"1984-01-01T00:00:00\",\"1985-01-01T00:00:00\",\"1986-01-01T00:00:00\",\"1987-01-01T00:00:00\",\"1988-01-01T00:00:00\",\"1989-01-01T00:00:00\",\"1990-01-01T00:00:00\",\"1991-01-01T00:00:00\",\"1992-01-01T00:00:00\",\"1993-01-01T00:00:00\",\"1994-01-01T00:00:00\",\"1995-01-01T00:00:00\",\"1996-01-01T00:00:00\",\"1997-01-01T00:00:00\",\"1998-01-01T00:00:00\",\"1999-01-01T00:00:00\",\"2000-01-01T00:00:00\",\"2001-01-01T00:00:00\",\"2002-01-01T00:00:00\",\"2003-01-01T00:00:00\",\"2004-01-01T00:00:00\"],\"y\":[0.16,0.17,0.19,0.2,0.2,0.21,0.22,0.25,0.27,0.27,0.27,0.3,0.3,0.3,0.31,0.31,0.31,0.32,0.33,0.33,0.34,0.34,0.34,0.35,0.35,0.36,0.37,0.38,0.4,0.42,0.44,0.46,0.48,0.51,0.56,0.61,0.65,0.69,0.74,0.83,0.94,1.04,1.1,1.13,1.18,1.23,1.25,1.29,1.35,1.41,1.49,1.55,1.6,1.65,1.69,1.74,1.79,1.83,1.86,1.9,1.96,2.02,2.05,2.1,2.15],\"type\":\"scatter\"},{\"hoverinfo\":\"skip\",\"line\":{\"width\":0},\"mode\":\"lines\",\"x\":[\"1940-01-01T00:00:00\",\"1941-01-01T00:00:00\",\"1942-01-01T00:00:00\",\"1943-01-01T00:00:00\",\"1944-01-01T00:00:00\",\"1945-01-01T00:00:00\",\"1946-01-01T00:00:00\",\"1947-01-01T00:00:00\",\"1948-01-01T00:00:00\",\"1949-01-01T00:00:00\",\"1950-01-01T00:00:00\",\"1951-01-01T00:00:00\",\"1952-01-01T00:00:00\",\"1953-01-01T00:00:00\",\"1954-01-01T00:00:00\",\"1955-01-01T00:00:00\",\"1956-01-01T00:00:00\",\"1957-01-01T00:00:00\",\"1958-01-01T00:00:00\",\"1959-01-01T00:00:00\",\"1960-01-01T00:00:00\",\"1961-01-01T00:00:00\",\"1962-01-01T00:00:00\",\"1963-01-01T00:00:00\",\"1964-01-01T00:00:00\",\"1965-01-01T00:00:00\",\"1966-01-01T00:00:00\",\"1967-01-01T00:00:00\",\"1968-01-01T00:00:00\",\"1969-01-01T00:00:00\",\"1970-01-01T00:00:00\",\"1971-01-01T00:00:00\",\"1972-01-01T00:00:00\",\"1973-01-01T00:00:00\",\"1974-01-01T00:00:00\",\"1975-01-01T00:00:00\",\"1976-01-01T00:00:00\",\"1977-01-01T00:00:00\",\"1978-01-01T00:00:00\",\"1979-01-01T00:00:00\",\"1980-01-01T00:00:00\",\"1981-01-01T00:00:00\",\"1982-01-01T00:00:00\",\"1983-01-01T00:00:00\",\"1984-01-01T00:00:00\",\"1985-01-01T00:00:00\",\"1986-01-01T00:00:00\",\"1987-01-01T00:00:00\",\"1988-01-01T00:00:00\",\"1989-01-01T00:00:00\",\"1990-01-01T00:00:00\",\"1991-01-01T00:00:00\",\"1992-01-01T00:00:00\",\"1993-01-01T00:00:00\",\"1994-01-01T00:00:00\",\"1995-01-01T00:00:00\",\"1996-01-01T00:00:00\",\"1997-01-01T00:00:00\",\"1998-01-01T00:00:00\",\"1999-01-01T00:00:00\",\"2000-01-01T00:00:00\",\"2001-01-01T00:00:00\",\"2002-01-01T00:00:00\",\"2003-01-01T00:00:00\",\"2004-01-01T00:00:00\",\"2004-12-31T00:00:00\",\"2005-12-31T00:00:00\",\"2006-12-31T00:00:00\",\"2007-12-31T00:00:00\",\"2008-12-31T00:00:00\",\"2009-12-31T00:00:00\",\"2010-12-31T00:00:00\",\"2011-12-31T00:00:00\",\"2012-12-31T00:00:00\",\"2013-12-31T00:00:00\",\"2014-12-31T00:00:00\",\"2015-12-31T00:00:00\",\"2016-12-31T00:00:00\",\"2017-12-31T00:00:00\",\"2018-12-31T00:00:00\",\"2019-12-31T00:00:00\",\"2020-12-31T00:00:00\",\"2021-12-31T00:00:00\",\"2022-12-31T00:00:00\",\"2023-12-31T00:00:00\"],\"y\":[0.14701397961965196,0.15716582462720202,0.16548262151267937,0.17673230514593768,0.1900981964397319,0.20121574067113535,0.21066106061288253,0.2195804520844282,0.23405303792653884,0.24703491580915932,0.253889963596674,0.25844901962219985,0.2705480526778215,0.27771322803004295,0.28008116936363314,0.28559978391428914,0.294668703627534,0.3013757968607864,0.30296872845891293,0.31034073610625573,0.31802063217491694,0.32561141852215886,0.32685575975457154,0.3319973155174473,0.34015758362154674,0.3483698615113068,0.3504394469081547,0.35623710862123315,0.3797831777744621,0.4004396172576878,0.41764303770758265,0.4384738820914416,0.46567913249415227,0.4881544978978642,0.5375542744620304,0.5855176415709344,0.6425135376533584,0.700549705883186,0.7631274538039007,0.829145568583196,0.8992119345987168,0.9675685314086395,1.0301482502258275,1.094930523420389,1.151162507551371,1.2035111907286742,1.2538947260305373,1.3051743993833913,1.3613780128351418,1.4123943524206952,1.4630358817760263,1.5145667006561971,1.5629746042533432,1.6126964182120542,1.6570804200053617,1.7044642880535907,1.7546715584155979,1.8022338237713869,1.8472528397670835,1.8950978320983087,1.9460516578246243,1.9924194571687766,2.0386970129906907,2.0854167983529144,2.1369814524956405,2.1859704310049857,2.243427263461865,2.299830163663031,2.358000756337394,2.3713917451900177,2.4171362319297174,2.471590061561457,2.5213452352431656,2.530489628462287,2.575060764341361,2.621686796306901,2.668670934968798,2.6735397339426226,2.718498616876875,2.761179423727147,2.8108252128390636,2.8065656808859725,2.8522110295285543,2.8946692901607025,2.943086288143245],\"type\":\"scatter\"},{\"fill\":\"tonexty\",\"fillcolor\":\"rgba(0, 114, 178, 0.2)\",\"line\":{\"color\":\"#0072B2\",\"width\":2},\"mode\":\"lines\",\"name\":\"Predicted\",\"x\":[\"1940-01-01T00:00:00\",\"1941-01-01T00:00:00\",\"1942-01-01T00:00:00\",\"1943-01-01T00:00:00\",\"1944-01-01T00:00:00\",\"1945-01-01T00:00:00\",\"1946-01-01T00:00:00\",\"1947-01-01T00:00:00\",\"1948-01-01T00:00:00\",\"1949-01-01T00:00:00\",\"1950-01-01T00:00:00\",\"1951-01-01T00:00:00\",\"1952-01-01T00:00:00\",\"1953-01-01T00:00:00\",\"1954-01-01T00:00:00\",\"1955-01-01T00:00:00\",\"1956-01-01T00:00:00\",\"1957-01-01T00:00:00\",\"1958-01-01T00:00:00\",\"1959-01-01T00:00:00\",\"1960-01-01T00:00:00\",\"1961-01-01T00:00:00\",\"1962-01-01T00:00:00\",\"1963-01-01T00:00:00\",\"1964-01-01T00:00:00\",\"1965-01-01T00:00:00\",\"1966-01-01T00:00:00\",\"1967-01-01T00:00:00\",\"1968-01-01T00:00:00\",\"1969-01-01T00:00:00\",\"1970-01-01T00:00:00\",\"1971-01-01T00:00:00\",\"1972-01-01T00:00:00\",\"1973-01-01T00:00:00\",\"1974-01-01T00:00:00\",\"1975-01-01T00:00:00\",\"1976-01-01T00:00:00\",\"1977-01-01T00:00:00\",\"1978-01-01T00:00:00\",\"1979-01-01T00:00:00\",\"1980-01-01T00:00:00\",\"1981-01-01T00:00:00\",\"1982-01-01T00:00:00\",\"1983-01-01T00:00:00\",\"1984-01-01T00:00:00\",\"1985-01-01T00:00:00\",\"1986-01-01T00:00:00\",\"1987-01-01T00:00:00\",\"1988-01-01T00:00:00\",\"1989-01-01T00:00:00\",\"1990-01-01T00:00:00\",\"1991-01-01T00:00:00\",\"1992-01-01T00:00:00\",\"1993-01-01T00:00:00\",\"1994-01-01T00:00:00\",\"1995-01-01T00:00:00\",\"1996-01-01T00:00:00\",\"1997-01-01T00:00:00\",\"1998-01-01T00:00:00\",\"1999-01-01T00:00:00\",\"2000-01-01T00:00:00\",\"2001-01-01T00:00:00\",\"2002-01-01T00:00:00\",\"2003-01-01T00:00:00\",\"2004-01-01T00:00:00\",\"2004-12-31T00:00:00\",\"2005-12-31T00:00:00\",\"2006-12-31T00:00:00\",\"2007-12-31T00:00:00\",\"2008-12-31T00:00:00\",\"2009-12-31T00:00:00\",\"2010-12-31T00:00:00\",\"2011-12-31T00:00:00\",\"2012-12-31T00:00:00\",\"2013-12-31T00:00:00\",\"2014-12-31T00:00:00\",\"2015-12-31T00:00:00\",\"2016-12-31T00:00:00\",\"2017-12-31T00:00:00\",\"2018-12-31T00:00:00\",\"2019-12-31T00:00:00\",\"2020-12-31T00:00:00\",\"2021-12-31T00:00:00\",\"2022-12-31T00:00:00\",\"2023-12-31T00:00:00\"],\"y\":[0.16552613191346333,0.17766636003706143,0.1854525313291645,0.19611599182152822,0.20964399823578,0.22178422665303388,0.22957039823801254,0.24023385804424296,0.25376186377236243,0.26587613173451147,0.2736364137946556,0.2813163137896906,0.29186075970657416,0.29873141435638406,0.30126240991647346,0.30667043883157763,0.3149430136685774,0.3218134116026461,0.32434415114840137,0.3297521798903982,0.33802475455422865,0.3448951527994649,0.34742589265556556,0.3528397563300519,0.36111816592638873,0.36823466098635504,0.37101082526151374,0.3766642783883254,0.399580472690678,0.4211346101145988,0.4383407495677634,0.45842417787259787,0.48470074294566023,0.5096244576355625,0.5560118931027955,0.6052766174217129,0.6633791659072362,0.7202160584847201,0.7836113119490439,0.849883854265046,0.9190209427803874,0.9869226070041375,1.0502958062025898,1.1165462942526914,1.1712342621205438,1.224647219064933,1.273593350426266,1.325416770639286,1.3801047365749757,1.433517691581908,1.482463822737079,1.5342872427439598,1.58438648913125,1.6331981527554473,1.6775555643692137,1.7247902648346618,1.774889511221952,1.8237011748461496,1.8680585864599104,1.915293286925368,1.9653925333127136,2.0142041969368893,2.0585616085506246,2.105796309016063,2.1558955554033417,2.2088415448633705,2.264611451920738,2.3231774742389146,2.3845068867729617,2.3993445669541935,2.4551144740115514,2.5136804963293713,2.5750099088634237,2.5898475890449553,2.6456174961021333,2.704183518420121,2.7655129309542996,2.780350611135574,2.8361205181929092,2.8946865405108873,2.956015953044842,2.970853633226385,3.02662354028354,3.0851895626016246,3.1465189751357427],\"type\":\"scatter\"},{\"fill\":\"tonexty\",\"fillcolor\":\"rgba(0, 114, 178, 0.2)\",\"hoverinfo\":\"skip\",\"line\":{\"width\":0},\"mode\":\"lines\",\"x\":[\"1940-01-01T00:00:00\",\"1941-01-01T00:00:00\",\"1942-01-01T00:00:00\",\"1943-01-01T00:00:00\",\"1944-01-01T00:00:00\",\"1945-01-01T00:00:00\",\"1946-01-01T00:00:00\",\"1947-01-01T00:00:00\",\"1948-01-01T00:00:00\",\"1949-01-01T00:00:00\",\"1950-01-01T00:00:00\",\"1951-01-01T00:00:00\",\"1952-01-01T00:00:00\",\"1953-01-01T00:00:00\",\"1954-01-01T00:00:00\",\"1955-01-01T00:00:00\",\"1956-01-01T00:00:00\",\"1957-01-01T00:00:00\",\"1958-01-01T00:00:00\",\"1959-01-01T00:00:00\",\"1960-01-01T00:00:00\",\"1961-01-01T00:00:00\",\"1962-01-01T00:00:00\",\"1963-01-01T00:00:00\",\"1964-01-01T00:00:00\",\"1965-01-01T00:00:00\",\"1966-01-01T00:00:00\",\"1967-01-01T00:00:00\",\"1968-01-01T00:00:00\",\"1969-01-01T00:00:00\",\"1970-01-01T00:00:00\",\"1971-01-01T00:00:00\",\"1972-01-01T00:00:00\",\"1973-01-01T00:00:00\",\"1974-01-01T00:00:00\",\"1975-01-01T00:00:00\",\"1976-01-01T00:00:00\",\"1977-01-01T00:00:00\",\"1978-01-01T00:00:00\",\"1979-01-01T00:00:00\",\"1980-01-01T00:00:00\",\"1981-01-01T00:00:00\",\"1982-01-01T00:00:00\",\"1983-01-01T00:00:00\",\"1984-01-01T00:00:00\",\"1985-01-01T00:00:00\",\"1986-01-01T00:00:00\",\"1987-01-01T00:00:00\",\"1988-01-01T00:00:00\",\"1989-01-01T00:00:00\",\"1990-01-01T00:00:00\",\"1991-01-01T00:00:00\",\"1992-01-01T00:00:00\",\"1993-01-01T00:00:00\",\"1994-01-01T00:00:00\",\"1995-01-01T00:00:00\",\"1996-01-01T00:00:00\",\"1997-01-01T00:00:00\",\"1998-01-01T00:00:00\",\"1999-01-01T00:00:00\",\"2000-01-01T00:00:00\",\"2001-01-01T00:00:00\",\"2002-01-01T00:00:00\",\"2003-01-01T00:00:00\",\"2004-01-01T00:00:00\",\"2004-12-31T00:00:00\",\"2005-12-31T00:00:00\",\"2006-12-31T00:00:00\",\"2007-12-31T00:00:00\",\"2008-12-31T00:00:00\",\"2009-12-31T00:00:00\",\"2010-12-31T00:00:00\",\"2011-12-31T00:00:00\",\"2012-12-31T00:00:00\",\"2013-12-31T00:00:00\",\"2014-12-31T00:00:00\",\"2015-12-31T00:00:00\",\"2016-12-31T00:00:00\",\"2017-12-31T00:00:00\",\"2018-12-31T00:00:00\",\"2019-12-31T00:00:00\",\"2020-12-31T00:00:00\",\"2021-12-31T00:00:00\",\"2022-12-31T00:00:00\",\"2023-12-31T00:00:00\"],\"y\":[0.18627779216978627,0.1973606261606874,0.20592895703904365,0.21618640507799666,0.23103710280023462,0.2426291823938141,0.2513085655751501,0.2613440313682027,0.27408629200710527,0.28655236118394456,0.29478529822323146,0.3022819581247757,0.3114490403464294,0.31999419026251497,0.31973225870001926,0.3265171434410337,0.33540317143535814,0.34073854547348087,0.3431187379348659,0.3488487358304907,0.35820709197485867,0.3656557941040843,0.36670211058139857,0.3739533280794933,0.3817391516091157,0.3891105331825817,0.39233413682146295,0.3986165642308898,0.4198965727383323,0.44103730655230505,0.45885368154275374,0.4790857757922223,0.5047428817183736,0.5289305596554379,0.5761881374078145,0.625617786922429,0.6842663217540562,0.7407295555589682,0.8024649487218255,0.8698753863968061,0.9394556993102664,1.008556258960117,1.070359603591176,1.1366099434286023,1.192653283987785,1.245191573541022,1.2924381524487523,1.3454932891913756,1.400632558919688,1.4536272894728268,1.5032145740909573,1.5537513455758347,1.6038940814630251,1.6537383232825875,1.6990731437155628,1.7443570475824648,1.795695890420999,1.8437786404548973,1.8893315944401596,1.9351530690045236,1.9864415536281907,2.0320150263995953,2.079255730949885,2.125623834686826,2.1758558719344836,2.2292394107864593,2.286283764893514,2.347151590563474,2.409400582841145,2.4290317663325904,2.490165169723194,2.5566509472341865,2.6238796144141836,2.644634212447883,2.712674189396454,2.7798845050089462,2.847314610429215,2.8740368371305625,2.9427574229974875,3.0137759579900343,3.0863816272267934,3.11269803539915,3.1812222915934663,3.2531564462880675,3.343469022350509],\"type\":\"scatter\"}],                        {\"height\":600,\"showlegend\":false,\"width\":900,\"xaxis\":{\"rangeselector\":{\"buttons\":[{\"count\":7,\"label\":\"1w\",\"step\":\"day\",\"stepmode\":\"backward\"},{\"count\":1,\"label\":\"1m\",\"step\":\"month\",\"stepmode\":\"backward\"},{\"count\":6,\"label\":\"6m\",\"step\":\"month\",\"stepmode\":\"backward\"},{\"count\":1,\"label\":\"1y\",\"step\":\"year\",\"stepmode\":\"backward\"},{\"step\":\"all\"}]},\"rangeslider\":{\"visible\":true},\"title\":{\"text\":\"ds\"},\"type\":\"date\"},\"yaxis\":{\"title\":{\"text\":\"y\"}},\"template\":{\"data\":{\"histogram2dcontour\":[{\"type\":\"histogram2dcontour\",\"colorbar\":{\"outlinewidth\":0,\"ticks\":\"\"},\"colorscale\":[[0.0,\"#0d0887\"],[0.1111111111111111,\"#46039f\"],[0.2222222222222222,\"#7201a8\"],[0.3333333333333333,\"#9c179e\"],[0.4444444444444444,\"#bd3786\"],[0.5555555555555556,\"#d8576b\"],[0.6666666666666666,\"#ed7953\"],[0.7777777777777778,\"#fb9f3a\"],[0.8888888888888888,\"#fdca26\"],[1.0,\"#f0f921\"]]}],\"choropleth\":[{\"type\":\"choropleth\",\"colorbar\":{\"outlinewidth\":0,\"ticks\":\"\"}}],\"histogram2d\":[{\"type\":\"histogram2d\",\"colorbar\":{\"outlinewidth\":0,\"ticks\":\"\"},\"colorscale\":[[0.0,\"#0d0887\"],[0.1111111111111111,\"#46039f\"],[0.2222222222222222,\"#7201a8\"],[0.3333333333333333,\"#9c179e\"],[0.4444444444444444,\"#bd3786\"],[0.5555555555555556,\"#d8576b\"],[0.6666666666666666,\"#ed7953\"],[0.7777777777777778,\"#fb9f3a\"],[0.8888888888888888,\"#fdca26\"],[1.0,\"#f0f921\"]]}],\"heatmap\":[{\"type\":\"heatmap\",\"colorbar\":{\"outlinewidth\":0,\"ticks\":\"\"},\"colorscale\":[[0.0,\"#0d0887\"],[0.1111111111111111,\"#46039f\"],[0.2222222222222222,\"#7201a8\"],[0.3333333333333333,\"#9c179e\"],[0.4444444444444444,\"#bd3786\"],[0.5555555555555556,\"#d8576b\"],[0.6666666666666666,\"#ed7953\"],[0.7777777777777778,\"#fb9f3a\"],[0.8888888888888888,\"#fdca26\"],[1.0,\"#f0f921\"]]}],\"heatmapgl\":[{\"type\":\"heatmapgl\",\"colorbar\":{\"outlinewidth\":0,\"ticks\":\"\"},\"colorscale\":[[0.0,\"#0d0887\"],[0.1111111111111111,\"#46039f\"],[0.2222222222222222,\"#7201a8\"],[0.3333333333333333,\"#9c179e\"],[0.4444444444444444,\"#bd3786\"],[0.5555555555555556,\"#d8576b\"],[0.6666666666666666,\"#ed7953\"],[0.7777777777777778,\"#fb9f3a\"],[0.8888888888888888,\"#fdca26\"],[1.0,\"#f0f921\"]]}],\"contourcarpet\":[{\"type\":\"contourcarpet\",\"colorbar\":{\"outlinewidth\":0,\"ticks\":\"\"}}],\"contour\":[{\"type\":\"contour\",\"colorbar\":{\"outlinewidth\":0,\"ticks\":\"\"},\"colorscale\":[[0.0,\"#0d0887\"],[0.1111111111111111,\"#46039f\"],[0.2222222222222222,\"#7201a8\"],[0.3333333333333333,\"#9c179e\"],[0.4444444444444444,\"#bd3786\"],[0.5555555555555556,\"#d8576b\"],[0.6666666666666666,\"#ed7953\"],[0.7777777777777778,\"#fb9f3a\"],[0.8888888888888888,\"#fdca26\"],[1.0,\"#f0f921\"]]}],\"surface\":[{\"type\":\"surface\",\"colorbar\":{\"outlinewidth\":0,\"ticks\":\"\"},\"colorscale\":[[0.0,\"#0d0887\"],[0.1111111111111111,\"#46039f\"],[0.2222222222222222,\"#7201a8\"],[0.3333333333333333,\"#9c179e\"],[0.4444444444444444,\"#bd3786\"],[0.5555555555555556,\"#d8576b\"],[0.6666666666666666,\"#ed7953\"],[0.7777777777777778,\"#fb9f3a\"],[0.8888888888888888,\"#fdca26\"],[1.0,\"#f0f921\"]]}],\"mesh3d\":[{\"type\":\"mesh3d\",\"colorbar\":{\"outlinewidth\":0,\"ticks\":\"\"}}],\"scatter\":[{\"fillpattern\":{\"fillmode\":\"overlay\",\"size\":10,\"solidity\":0.2},\"type\":\"scatter\"}],\"parcoords\":[{\"type\":\"parcoords\",\"line\":{\"colorbar\":{\"outlinewidth\":0,\"ticks\":\"\"}}}],\"scatterpolargl\":[{\"type\":\"scatterpolargl\",\"marker\":{\"colorbar\":{\"outlinewidth\":0,\"ticks\":\"\"}}}],\"bar\":[{\"error_x\":{\"color\":\"#2a3f5f\"},\"error_y\":{\"color\":\"#2a3f5f\"},\"marker\":{\"line\":{\"color\":\"#E5ECF6\",\"width\":0.5},\"pattern\":{\"fillmode\":\"overlay\",\"size\":10,\"solidity\":0.2}},\"type\":\"bar\"}],\"scattergeo\":[{\"type\":\"scattergeo\",\"marker\":{\"colorbar\":{\"outlinewidth\":0,\"ticks\":\"\"}}}],\"scatterpolar\":[{\"type\":\"scatterpolar\",\"marker\":{\"colorbar\":{\"outlinewidth\":0,\"ticks\":\"\"}}}],\"histogram\":[{\"marker\":{\"pattern\":{\"fillmode\":\"overlay\",\"size\":10,\"solidity\":0.2}},\"type\":\"histogram\"}],\"scattergl\":[{\"type\":\"scattergl\",\"marker\":{\"colorbar\":{\"outlinewidth\":0,\"ticks\":\"\"}}}],\"scatter3d\":[{\"type\":\"scatter3d\",\"line\":{\"colorbar\":{\"outlinewidth\":0,\"ticks\":\"\"}},\"marker\":{\"colorbar\":{\"outlinewidth\":0,\"ticks\":\"\"}}}],\"scattermapbox\":[{\"type\":\"scattermapbox\",\"marker\":{\"colorbar\":{\"outlinewidth\":0,\"ticks\":\"\"}}}],\"scatterternary\":[{\"type\":\"scatterternary\",\"marker\":{\"colorbar\":{\"outlinewidth\":0,\"ticks\":\"\"}}}],\"scattercarpet\":[{\"type\":\"scattercarpet\",\"marker\":{\"colorbar\":{\"outlinewidth\":0,\"ticks\":\"\"}}}],\"carpet\":[{\"aaxis\":{\"endlinecolor\":\"#2a3f5f\",\"gridcolor\":\"white\",\"linecolor\":\"white\",\"minorgridcolor\":\"white\",\"startlinecolor\":\"#2a3f5f\"},\"baxis\":{\"endlinecolor\":\"#2a3f5f\",\"gridcolor\":\"white\",\"linecolor\":\"white\",\"minorgridcolor\":\"white\",\"startlinecolor\":\"#2a3f5f\"},\"type\":\"carpet\"}],\"table\":[{\"cells\":{\"fill\":{\"color\":\"#EBF0F8\"},\"line\":{\"color\":\"white\"}},\"header\":{\"fill\":{\"color\":\"#C8D4E3\"},\"line\":{\"color\":\"white\"}},\"type\":\"table\"}],\"barpolar\":[{\"marker\":{\"line\":{\"color\":\"#E5ECF6\",\"width\":0.5},\"pattern\":{\"fillmode\":\"overlay\",\"size\":10,\"solidity\":0.2}},\"type\":\"barpolar\"}],\"pie\":[{\"automargin\":true,\"type\":\"pie\"}]},\"layout\":{\"autotypenumbers\":\"strict\",\"colorway\":[\"#636efa\",\"#EF553B\",\"#00cc96\",\"#ab63fa\",\"#FFA15A\",\"#19d3f3\",\"#FF6692\",\"#B6E880\",\"#FF97FF\",\"#FECB52\"],\"font\":{\"color\":\"#2a3f5f\"},\"hovermode\":\"closest\",\"hoverlabel\":{\"align\":\"left\"},\"paper_bgcolor\":\"white\",\"plot_bgcolor\":\"#E5ECF6\",\"polar\":{\"bgcolor\":\"#E5ECF6\",\"angularaxis\":{\"gridcolor\":\"white\",\"linecolor\":\"white\",\"ticks\":\"\"},\"radialaxis\":{\"gridcolor\":\"white\",\"linecolor\":\"white\",\"ticks\":\"\"}},\"ternary\":{\"bgcolor\":\"#E5ECF6\",\"aaxis\":{\"gridcolor\":\"white\",\"linecolor\":\"white\",\"ticks\":\"\"},\"baxis\":{\"gridcolor\":\"white\",\"linecolor\":\"white\",\"ticks\":\"\"},\"caxis\":{\"gridcolor\":\"white\",\"linecolor\":\"white\",\"ticks\":\"\"}},\"coloraxis\":{\"colorbar\":{\"outlinewidth\":0,\"ticks\":\"\"}},\"colorscale\":{\"sequential\":[[0.0,\"#0d0887\"],[0.1111111111111111,\"#46039f\"],[0.2222222222222222,\"#7201a8\"],[0.3333333333333333,\"#9c179e\"],[0.4444444444444444,\"#bd3786\"],[0.5555555555555556,\"#d8576b\"],[0.6666666666666666,\"#ed7953\"],[0.7777777777777778,\"#fb9f3a\"],[0.8888888888888888,\"#fdca26\"],[1.0,\"#f0f921\"]],\"sequentialminus\":[[0.0,\"#0d0887\"],[0.1111111111111111,\"#46039f\"],[0.2222222222222222,\"#7201a8\"],[0.3333333333333333,\"#9c179e\"],[0.4444444444444444,\"#bd3786\"],[0.5555555555555556,\"#d8576b\"],[0.6666666666666666,\"#ed7953\"],[0.7777777777777778,\"#fb9f3a\"],[0.8888888888888888,\"#fdca26\"],[1.0,\"#f0f921\"]],\"diverging\":[[0,\"#8e0152\"],[0.1,\"#c51b7d\"],[0.2,\"#de77ae\"],[0.3,\"#f1b6da\"],[0.4,\"#fde0ef\"],[0.5,\"#f7f7f7\"],[0.6,\"#e6f5d0\"],[0.7,\"#b8e186\"],[0.8,\"#7fbc41\"],[0.9,\"#4d9221\"],[1,\"#276419\"]]},\"xaxis\":{\"gridcolor\":\"white\",\"linecolor\":\"white\",\"ticks\":\"\",\"title\":{\"standoff\":15},\"zerolinecolor\":\"white\",\"automargin\":true,\"zerolinewidth\":2},\"yaxis\":{\"gridcolor\":\"white\",\"linecolor\":\"white\",\"ticks\":\"\",\"title\":{\"standoff\":15},\"zerolinecolor\":\"white\",\"automargin\":true,\"zerolinewidth\":2},\"scene\":{\"xaxis\":{\"backgroundcolor\":\"#E5ECF6\",\"gridcolor\":\"white\",\"linecolor\":\"white\",\"showbackground\":true,\"ticks\":\"\",\"zerolinecolor\":\"white\",\"gridwidth\":2},\"yaxis\":{\"backgroundcolor\":\"#E5ECF6\",\"gridcolor\":\"white\",\"linecolor\":\"white\",\"showbackground\":true,\"ticks\":\"\",\"zerolinecolor\":\"white\",\"gridwidth\":2},\"zaxis\":{\"backgroundcolor\":\"#E5ECF6\",\"gridcolor\":\"white\",\"linecolor\":\"white\",\"showbackground\":true,\"ticks\":\"\",\"zerolinecolor\":\"white\",\"gridwidth\":2}},\"shapedefaults\":{\"line\":{\"color\":\"#2a3f5f\"}},\"annotationdefaults\":{\"arrowcolor\":\"#2a3f5f\",\"arrowhead\":0,\"arrowwidth\":1},\"geo\":{\"bgcolor\":\"white\",\"landcolor\":\"#E5ECF6\",\"subunitcolor\":\"white\",\"showland\":true,\"showlakes\":true,\"lakecolor\":\"white\"},\"title\":{\"x\":0.05},\"mapbox\":{\"style\":\"light\"}}}},                        {\"responsive\": true}                    ).then(function(){\n",
       "                            \n",
       "var gd = document.getElementById('788098f7-221c-4737-850c-f60f418d74ce');\n",
       "var x = new MutationObserver(function (mutations, observer) {{\n",
       "        var display = window.getComputedStyle(gd).display;\n",
       "        if (!display || display === 'none') {{\n",
       "            console.log([gd, 'removed!']);\n",
       "            Plotly.purge(gd);\n",
       "            observer.disconnect();\n",
       "        }}\n",
       "}});\n",
       "\n",
       "// Listen for the removal of the full notebook cells\n",
       "var notebookContainer = gd.closest('#notebook-container');\n",
       "if (notebookContainer) {{\n",
       "    x.observe(notebookContainer, {childList: true});\n",
       "}}\n",
       "\n",
       "// Listen for the clearing of the current output cell\n",
       "var outputEl = gd.closest('.output');\n",
       "if (outputEl) {{\n",
       "    x.observe(outputEl, {childList: true});\n",
       "}}\n",
       "\n",
       "                        })                };                });            </script>        </div>"
      ]
     },
     "metadata": {},
     "output_type": "display_data"
    }
   ],
   "source": [
    "plot_plotly(m ,forecast)\n",
    "     "
   ]
  },
  {
   "cell_type": "code",
   "execution_count": 81,
   "id": "de665a92",
   "metadata": {},
   "outputs": [],
   "source": [
    "from statsmodels.tools.eval_measures import rmse"
   ]
  },
  {
   "cell_type": "code",
   "execution_count": 84,
   "id": "448cfb79",
   "metadata": {},
   "outputs": [],
   "source": [
    "predictions = forecast.iloc[-20:]['yhat']"
   ]
  },
  {
   "cell_type": "code",
   "execution_count": 85,
   "id": "76c45ebe",
   "metadata": {},
   "outputs": [
    {
     "name": "stdout",
     "output_type": "stream",
     "text": [
      "Root Mean Squared Error between actual and  predicted values:  0.1494723685131833\n",
      "Mean Value of Test Dataset: 2.7604999999999995\n"
     ]
    }
   ],
   "source": [
    "print(\"Root Mean Squared Error between actual and  predicted values: \",rmse(predictions,test['y']))\n",
    "print(\"Mean Value of Test Dataset:\", test['y'].mean())"
   ]
  },
  {
   "cell_type": "code",
   "execution_count": 89,
   "id": "1a17932e",
   "metadata": {},
   "outputs": [
    {
     "name": "stderr",
     "output_type": "stream",
     "text": [
      "19:38:17 - cmdstanpy - INFO - Chain [1] start processing\n",
      "19:38:17 - cmdstanpy - INFO - Chain [1] done processing\n"
     ]
    }
   ],
   "source": [
    "m = Prophet()\n",
    "m.fit(train)\n",
    "future = m.make_future_dataframe(periods=47, freq = \"Y\") #MS for monthly, H for hourly\n",
    "forecast = m.predict(future)"
   ]
  },
  {
   "cell_type": "code",
   "execution_count": 90,
   "id": "a53ae657",
   "metadata": {},
   "outputs": [
    {
     "data": {
      "text/html": [
       "<div>\n",
       "<style scoped>\n",
       "    .dataframe tbody tr th:only-of-type {\n",
       "        vertical-align: middle;\n",
       "    }\n",
       "\n",
       "    .dataframe tbody tr th {\n",
       "        vertical-align: top;\n",
       "    }\n",
       "\n",
       "    .dataframe thead th {\n",
       "        text-align: right;\n",
       "    }\n",
       "</style>\n",
       "<table border=\"1\" class=\"dataframe\">\n",
       "  <thead>\n",
       "    <tr style=\"text-align: right;\">\n",
       "      <th></th>\n",
       "      <th>ds</th>\n",
       "      <th>yhat</th>\n",
       "      <th>yhat_lower</th>\n",
       "      <th>yhat_upper</th>\n",
       "    </tr>\n",
       "  </thead>\n",
       "  <tbody>\n",
       "    <tr>\n",
       "      <th>107</th>\n",
       "      <td>2046-12-31</td>\n",
       "      <td>4.228208</td>\n",
       "      <td>3.678180</td>\n",
       "      <td>4.862900</td>\n",
       "    </tr>\n",
       "    <tr>\n",
       "      <th>108</th>\n",
       "      <td>2047-12-31</td>\n",
       "      <td>4.289537</td>\n",
       "      <td>3.713436</td>\n",
       "      <td>4.928680</td>\n",
       "    </tr>\n",
       "    <tr>\n",
       "      <th>109</th>\n",
       "      <td>2048-12-31</td>\n",
       "      <td>4.304375</td>\n",
       "      <td>3.705034</td>\n",
       "      <td>4.981683</td>\n",
       "    </tr>\n",
       "    <tr>\n",
       "      <th>110</th>\n",
       "      <td>2049-12-31</td>\n",
       "      <td>4.360145</td>\n",
       "      <td>3.733120</td>\n",
       "      <td>5.060615</td>\n",
       "    </tr>\n",
       "    <tr>\n",
       "      <th>111</th>\n",
       "      <td>2050-12-31</td>\n",
       "      <td>4.418711</td>\n",
       "      <td>3.766922</td>\n",
       "      <td>5.134973</td>\n",
       "    </tr>\n",
       "  </tbody>\n",
       "</table>\n",
       "</div>"
      ],
      "text/plain": [
       "            ds      yhat  yhat_lower  yhat_upper\n",
       "107 2046-12-31  4.228208    3.678180    4.862900\n",
       "108 2047-12-31  4.289537    3.713436    4.928680\n",
       "109 2048-12-31  4.304375    3.705034    4.981683\n",
       "110 2049-12-31  4.360145    3.733120    5.060615\n",
       "111 2050-12-31  4.418711    3.766922    5.134973"
      ]
     },
     "execution_count": 90,
     "metadata": {},
     "output_type": "execute_result"
    }
   ],
   "source": [
    "forecast[['ds', 'yhat', 'yhat_lower', 'yhat_upper']].tail()"
   ]
  },
  {
   "cell_type": "code",
   "execution_count": 97,
   "id": "e577829f",
   "metadata": {},
   "outputs": [
    {
     "data": {
      "application/vnd.plotly.v1+json": {
       "config": {
        "plotlyServerURL": "https://plot.ly"
       },
       "data": [
        {
         "marker": {
          "color": "black",
          "size": 4
         },
         "mode": "markers",
         "name": "Actual",
         "type": "scatter",
         "x": [
          "1940-01-01T00:00:00",
          "1941-01-01T00:00:00",
          "1942-01-01T00:00:00",
          "1943-01-01T00:00:00",
          "1944-01-01T00:00:00",
          "1945-01-01T00:00:00",
          "1946-01-01T00:00:00",
          "1947-01-01T00:00:00",
          "1948-01-01T00:00:00",
          "1949-01-01T00:00:00",
          "1950-01-01T00:00:00",
          "1951-01-01T00:00:00",
          "1952-01-01T00:00:00",
          "1953-01-01T00:00:00",
          "1954-01-01T00:00:00",
          "1955-01-01T00:00:00",
          "1956-01-01T00:00:00",
          "1957-01-01T00:00:00",
          "1958-01-01T00:00:00",
          "1959-01-01T00:00:00",
          "1960-01-01T00:00:00",
          "1961-01-01T00:00:00",
          "1962-01-01T00:00:00",
          "1963-01-01T00:00:00",
          "1964-01-01T00:00:00",
          "1965-01-01T00:00:00",
          "1966-01-01T00:00:00",
          "1967-01-01T00:00:00",
          "1968-01-01T00:00:00",
          "1969-01-01T00:00:00",
          "1970-01-01T00:00:00",
          "1971-01-01T00:00:00",
          "1972-01-01T00:00:00",
          "1973-01-01T00:00:00",
          "1974-01-01T00:00:00",
          "1975-01-01T00:00:00",
          "1976-01-01T00:00:00",
          "1977-01-01T00:00:00",
          "1978-01-01T00:00:00",
          "1979-01-01T00:00:00",
          "1980-01-01T00:00:00",
          "1981-01-01T00:00:00",
          "1982-01-01T00:00:00",
          "1983-01-01T00:00:00",
          "1984-01-01T00:00:00",
          "1985-01-01T00:00:00",
          "1986-01-01T00:00:00",
          "1987-01-01T00:00:00",
          "1988-01-01T00:00:00",
          "1989-01-01T00:00:00",
          "1990-01-01T00:00:00",
          "1991-01-01T00:00:00",
          "1992-01-01T00:00:00",
          "1993-01-01T00:00:00",
          "1994-01-01T00:00:00",
          "1995-01-01T00:00:00",
          "1996-01-01T00:00:00",
          "1997-01-01T00:00:00",
          "1998-01-01T00:00:00",
          "1999-01-01T00:00:00",
          "2000-01-01T00:00:00",
          "2001-01-01T00:00:00",
          "2002-01-01T00:00:00",
          "2003-01-01T00:00:00",
          "2004-01-01T00:00:00"
         ],
         "y": [
          0.16,
          0.17,
          0.19,
          0.2,
          0.2,
          0.21,
          0.22,
          0.25,
          0.27,
          0.27,
          0.27,
          0.3,
          0.3,
          0.3,
          0.31,
          0.31,
          0.31,
          0.32,
          0.33,
          0.33,
          0.34,
          0.34,
          0.34,
          0.35,
          0.35,
          0.36,
          0.37,
          0.38,
          0.4,
          0.42,
          0.44,
          0.46,
          0.48,
          0.51,
          0.56,
          0.61,
          0.65,
          0.69,
          0.74,
          0.83,
          0.94,
          1.04,
          1.1,
          1.13,
          1.18,
          1.23,
          1.25,
          1.29,
          1.35,
          1.41,
          1.49,
          1.55,
          1.6,
          1.65,
          1.69,
          1.74,
          1.79,
          1.83,
          1.86,
          1.9,
          1.96,
          2.02,
          2.05,
          2.1,
          2.15
         ]
        },
        {
         "hoverinfo": "skip",
         "line": {
          "width": 0
         },
         "mode": "lines",
         "type": "scatter",
         "x": [
          "1940-01-01T00:00:00",
          "1941-01-01T00:00:00",
          "1942-01-01T00:00:00",
          "1943-01-01T00:00:00",
          "1944-01-01T00:00:00",
          "1945-01-01T00:00:00",
          "1946-01-01T00:00:00",
          "1947-01-01T00:00:00",
          "1948-01-01T00:00:00",
          "1949-01-01T00:00:00",
          "1950-01-01T00:00:00",
          "1951-01-01T00:00:00",
          "1952-01-01T00:00:00",
          "1953-01-01T00:00:00",
          "1954-01-01T00:00:00",
          "1955-01-01T00:00:00",
          "1956-01-01T00:00:00",
          "1957-01-01T00:00:00",
          "1958-01-01T00:00:00",
          "1959-01-01T00:00:00",
          "1960-01-01T00:00:00",
          "1961-01-01T00:00:00",
          "1962-01-01T00:00:00",
          "1963-01-01T00:00:00",
          "1964-01-01T00:00:00",
          "1965-01-01T00:00:00",
          "1966-01-01T00:00:00",
          "1967-01-01T00:00:00",
          "1968-01-01T00:00:00",
          "1969-01-01T00:00:00",
          "1970-01-01T00:00:00",
          "1971-01-01T00:00:00",
          "1972-01-01T00:00:00",
          "1973-01-01T00:00:00",
          "1974-01-01T00:00:00",
          "1975-01-01T00:00:00",
          "1976-01-01T00:00:00",
          "1977-01-01T00:00:00",
          "1978-01-01T00:00:00",
          "1979-01-01T00:00:00",
          "1980-01-01T00:00:00",
          "1981-01-01T00:00:00",
          "1982-01-01T00:00:00",
          "1983-01-01T00:00:00",
          "1984-01-01T00:00:00",
          "1985-01-01T00:00:00",
          "1986-01-01T00:00:00",
          "1987-01-01T00:00:00",
          "1988-01-01T00:00:00",
          "1989-01-01T00:00:00",
          "1990-01-01T00:00:00",
          "1991-01-01T00:00:00",
          "1992-01-01T00:00:00",
          "1993-01-01T00:00:00",
          "1994-01-01T00:00:00",
          "1995-01-01T00:00:00",
          "1996-01-01T00:00:00",
          "1997-01-01T00:00:00",
          "1998-01-01T00:00:00",
          "1999-01-01T00:00:00",
          "2000-01-01T00:00:00",
          "2001-01-01T00:00:00",
          "2002-01-01T00:00:00",
          "2003-01-01T00:00:00",
          "2004-01-01T00:00:00",
          "2004-12-31T00:00:00",
          "2005-12-31T00:00:00",
          "2006-12-31T00:00:00",
          "2007-12-31T00:00:00",
          "2008-12-31T00:00:00",
          "2009-12-31T00:00:00",
          "2010-12-31T00:00:00",
          "2011-12-31T00:00:00",
          "2012-12-31T00:00:00",
          "2013-12-31T00:00:00",
          "2014-12-31T00:00:00",
          "2015-12-31T00:00:00",
          "2016-12-31T00:00:00",
          "2017-12-31T00:00:00",
          "2018-12-31T00:00:00",
          "2019-12-31T00:00:00",
          "2020-12-31T00:00:00",
          "2021-12-31T00:00:00",
          "2022-12-31T00:00:00",
          "2023-12-31T00:00:00",
          "2024-12-31T00:00:00",
          "2025-12-31T00:00:00",
          "2026-12-31T00:00:00",
          "2027-12-31T00:00:00",
          "2028-12-31T00:00:00",
          "2029-12-31T00:00:00",
          "2030-12-31T00:00:00",
          "2031-12-31T00:00:00",
          "2032-12-31T00:00:00",
          "2033-12-31T00:00:00",
          "2034-12-31T00:00:00",
          "2035-12-31T00:00:00",
          "2036-12-31T00:00:00",
          "2037-12-31T00:00:00",
          "2038-12-31T00:00:00",
          "2039-12-31T00:00:00",
          "2040-12-31T00:00:00",
          "2041-12-31T00:00:00",
          "2042-12-31T00:00:00",
          "2043-12-31T00:00:00",
          "2044-12-31T00:00:00",
          "2045-12-31T00:00:00",
          "2046-12-31T00:00:00",
          "2047-12-31T00:00:00",
          "2048-12-31T00:00:00",
          "2049-12-31T00:00:00",
          "2050-12-31T00:00:00"
         ],
         "y": [
          0.14435061249243633,
          0.15811903199448613,
          0.16609466476008866,
          0.17720496473729624,
          0.19044269844769748,
          0.20161048851111374,
          0.2088947218000596,
          0.2201118806902307,
          0.23374820345065783,
          0.24426708286701654,
          0.2539737693360147,
          0.2617654064040257,
          0.2732353346560238,
          0.27899239343111926,
          0.2801334952103325,
          0.28632583568589365,
          0.29346426312813806,
          0.3019066234306514,
          0.3042768669990414,
          0.3084217541874262,
          0.3171259432432578,
          0.3242868860815483,
          0.3278261156342428,
          0.3332823015387221,
          0.3392347608921719,
          0.34761068043052384,
          0.3526893326863257,
          0.3580949863499915,
          0.3775984346209094,
          0.39957023552707993,
          0.4175595577731852,
          0.43796022355207376,
          0.46582005915268954,
          0.4886263638049066,
          0.536271959983607,
          0.5833980154879828,
          0.6439449667688925,
          0.7004974958715677,
          0.7614040572776021,
          0.8303191383967223,
          0.8983674798326362,
          0.9669529698001451,
          1.0296766621595945,
          1.0963235327307916,
          1.1509063831338386,
          1.2052725369339066,
          1.2531127314031267,
          1.304893972611271,
          1.360320272570285,
          1.4136018028231483,
          1.4626040272308674,
          1.5148393811118102,
          1.5630120999851123,
          1.6120383871063309,
          1.6586274644290397,
          1.704555039681826,
          1.7556680708129555,
          1.8024194472447632,
          1.8469541930070086,
          1.896092732317837,
          1.9450058464989999,
          1.9938102453876798,
          2.038357058617379,
          2.0860519885567994,
          2.133513933612691,
          2.1886143458866223,
          2.244056165555319,
          2.3003147851497108,
          2.358703928459395,
          2.3707251156603153,
          2.4195376868777836,
          2.4744411943726274,
          2.5253903177256247,
          2.5333921485963864,
          2.577454505946582,
          2.6263270088281496,
          2.6778151375936785,
          2.683911129960805,
          2.725966076863332,
          2.771159674901793,
          2.8224842908998475,
          2.819389079042287,
          2.86308752912827,
          2.90930525003843,
          2.9616490269423457,
          2.9603480528228583,
          3.0076677099298226,
          3.043907258907145,
          3.0973687114847834,
          3.0996895535188242,
          3.1372417276149993,
          3.1841884063869967,
          3.228946548063227,
          3.231512806382368,
          3.2553934487028533,
          3.3016463239473315,
          3.351250682935904,
          3.3501851853198708,
          3.3843215730782936,
          3.4373805418000756,
          3.4788358994004476,
          3.4805701931241204,
          3.5072146641081776,
          3.5495737265061993,
          3.6022372194664785,
          3.6006799808429975,
          3.6304084774781225,
          3.678180378853505,
          3.713436039066946,
          3.7050341532968973,
          3.7331200901577204,
          3.76692188028336
         ]
        },
        {
         "fill": "tonexty",
         "fillcolor": "rgba(0, 114, 178, 0.2)",
         "line": {
          "color": "#0072B2",
          "width": 2
         },
         "mode": "lines",
         "name": "Predicted",
         "type": "scatter",
         "x": [
          "1940-01-01T00:00:00",
          "1941-01-01T00:00:00",
          "1942-01-01T00:00:00",
          "1943-01-01T00:00:00",
          "1944-01-01T00:00:00",
          "1945-01-01T00:00:00",
          "1946-01-01T00:00:00",
          "1947-01-01T00:00:00",
          "1948-01-01T00:00:00",
          "1949-01-01T00:00:00",
          "1950-01-01T00:00:00",
          "1951-01-01T00:00:00",
          "1952-01-01T00:00:00",
          "1953-01-01T00:00:00",
          "1954-01-01T00:00:00",
          "1955-01-01T00:00:00",
          "1956-01-01T00:00:00",
          "1957-01-01T00:00:00",
          "1958-01-01T00:00:00",
          "1959-01-01T00:00:00",
          "1960-01-01T00:00:00",
          "1961-01-01T00:00:00",
          "1962-01-01T00:00:00",
          "1963-01-01T00:00:00",
          "1964-01-01T00:00:00",
          "1965-01-01T00:00:00",
          "1966-01-01T00:00:00",
          "1967-01-01T00:00:00",
          "1968-01-01T00:00:00",
          "1969-01-01T00:00:00",
          "1970-01-01T00:00:00",
          "1971-01-01T00:00:00",
          "1972-01-01T00:00:00",
          "1973-01-01T00:00:00",
          "1974-01-01T00:00:00",
          "1975-01-01T00:00:00",
          "1976-01-01T00:00:00",
          "1977-01-01T00:00:00",
          "1978-01-01T00:00:00",
          "1979-01-01T00:00:00",
          "1980-01-01T00:00:00",
          "1981-01-01T00:00:00",
          "1982-01-01T00:00:00",
          "1983-01-01T00:00:00",
          "1984-01-01T00:00:00",
          "1985-01-01T00:00:00",
          "1986-01-01T00:00:00",
          "1987-01-01T00:00:00",
          "1988-01-01T00:00:00",
          "1989-01-01T00:00:00",
          "1990-01-01T00:00:00",
          "1991-01-01T00:00:00",
          "1992-01-01T00:00:00",
          "1993-01-01T00:00:00",
          "1994-01-01T00:00:00",
          "1995-01-01T00:00:00",
          "1996-01-01T00:00:00",
          "1997-01-01T00:00:00",
          "1998-01-01T00:00:00",
          "1999-01-01T00:00:00",
          "2000-01-01T00:00:00",
          "2001-01-01T00:00:00",
          "2002-01-01T00:00:00",
          "2003-01-01T00:00:00",
          "2004-01-01T00:00:00",
          "2004-12-31T00:00:00",
          "2005-12-31T00:00:00",
          "2006-12-31T00:00:00",
          "2007-12-31T00:00:00",
          "2008-12-31T00:00:00",
          "2009-12-31T00:00:00",
          "2010-12-31T00:00:00",
          "2011-12-31T00:00:00",
          "2012-12-31T00:00:00",
          "2013-12-31T00:00:00",
          "2014-12-31T00:00:00",
          "2015-12-31T00:00:00",
          "2016-12-31T00:00:00",
          "2017-12-31T00:00:00",
          "2018-12-31T00:00:00",
          "2019-12-31T00:00:00",
          "2020-12-31T00:00:00",
          "2021-12-31T00:00:00",
          "2022-12-31T00:00:00",
          "2023-12-31T00:00:00",
          "2024-12-31T00:00:00",
          "2025-12-31T00:00:00",
          "2026-12-31T00:00:00",
          "2027-12-31T00:00:00",
          "2028-12-31T00:00:00",
          "2029-12-31T00:00:00",
          "2030-12-31T00:00:00",
          "2031-12-31T00:00:00",
          "2032-12-31T00:00:00",
          "2033-12-31T00:00:00",
          "2034-12-31T00:00:00",
          "2035-12-31T00:00:00",
          "2036-12-31T00:00:00",
          "2037-12-31T00:00:00",
          "2038-12-31T00:00:00",
          "2039-12-31T00:00:00",
          "2040-12-31T00:00:00",
          "2041-12-31T00:00:00",
          "2042-12-31T00:00:00",
          "2043-12-31T00:00:00",
          "2044-12-31T00:00:00",
          "2045-12-31T00:00:00",
          "2046-12-31T00:00:00",
          "2047-12-31T00:00:00",
          "2048-12-31T00:00:00",
          "2049-12-31T00:00:00",
          "2050-12-31T00:00:00"
         ],
         "y": [
          0.16552613191346333,
          0.17766636003706143,
          0.1854525313291645,
          0.19611599182152822,
          0.20964399823578,
          0.22178422665303388,
          0.22957039823801254,
          0.24023385804424296,
          0.25376186377236243,
          0.26587613173451147,
          0.2736364137946556,
          0.2813163137896906,
          0.29186075970657416,
          0.29873141435638406,
          0.30126240991647346,
          0.30667043883157763,
          0.3149430136685774,
          0.3218134116026461,
          0.32434415114840137,
          0.3297521798903982,
          0.33802475455422865,
          0.3448951527994649,
          0.34742589265556556,
          0.3528397563300519,
          0.36111816592638873,
          0.36823466098635504,
          0.37101082526151374,
          0.3766642783883254,
          0.399580472690678,
          0.4211346101145988,
          0.4383407495677634,
          0.45842417787259787,
          0.48470074294566023,
          0.5096244576355625,
          0.5560118931027955,
          0.6052766174217129,
          0.6633791659072362,
          0.7202160584847201,
          0.7836113119490439,
          0.849883854265046,
          0.9190209427803874,
          0.9869226070041375,
          1.0502958062025898,
          1.1165462942526914,
          1.1712342621205438,
          1.224647219064933,
          1.273593350426266,
          1.325416770639286,
          1.3801047365749757,
          1.433517691581908,
          1.482463822737079,
          1.5342872427439598,
          1.58438648913125,
          1.6331981527554473,
          1.6775555643692137,
          1.7247902648346618,
          1.774889511221952,
          1.8237011748461496,
          1.8680585864599104,
          1.915293286925368,
          1.9653925333127136,
          2.0142041969368893,
          2.0585616085506246,
          2.105796309016063,
          2.1558955554033417,
          2.2088415448633705,
          2.264611451920738,
          2.3231774742389146,
          2.3845068867729617,
          2.3993445669541935,
          2.4551144740115514,
          2.5136804963293713,
          2.5750099088634237,
          2.5898475890449553,
          2.6456174961021333,
          2.704183518420121,
          2.7655129309542996,
          2.780350611135574,
          2.8361205181929092,
          2.8946865405108873,
          2.956015953044842,
          2.970853633226385,
          3.02662354028354,
          3.0851895626016246,
          3.146518975135742,
          3.161356655316967,
          3.2171265623743266,
          3.2756925846922242,
          3.3370219972261874,
          3.3518596774077074,
          3.4076295844651407,
          3.4661956067831143,
          3.52752501931731,
          3.5423626994986166,
          3.5981326065557226,
          3.656698628873873,
          3.71802804140799,
          3.7328657215890413,
          3.7886356286462832,
          3.847201650964401,
          3.9085310634982684,
          3.9233687436798066,
          3.9791386507373043,
          4.037704673055181,
          4.099034085589374,
          4.113871765770748,
          4.169641672828001,
          4.22820769514583,
          4.2895371076800535,
          4.304374787861379,
          4.360144694918447,
          4.418710717236406
         ]
        },
        {
         "fill": "tonexty",
         "fillcolor": "rgba(0, 114, 178, 0.2)",
         "hoverinfo": "skip",
         "line": {
          "width": 0
         },
         "mode": "lines",
         "type": "scatter",
         "x": [
          "1940-01-01T00:00:00",
          "1941-01-01T00:00:00",
          "1942-01-01T00:00:00",
          "1943-01-01T00:00:00",
          "1944-01-01T00:00:00",
          "1945-01-01T00:00:00",
          "1946-01-01T00:00:00",
          "1947-01-01T00:00:00",
          "1948-01-01T00:00:00",
          "1949-01-01T00:00:00",
          "1950-01-01T00:00:00",
          "1951-01-01T00:00:00",
          "1952-01-01T00:00:00",
          "1953-01-01T00:00:00",
          "1954-01-01T00:00:00",
          "1955-01-01T00:00:00",
          "1956-01-01T00:00:00",
          "1957-01-01T00:00:00",
          "1958-01-01T00:00:00",
          "1959-01-01T00:00:00",
          "1960-01-01T00:00:00",
          "1961-01-01T00:00:00",
          "1962-01-01T00:00:00",
          "1963-01-01T00:00:00",
          "1964-01-01T00:00:00",
          "1965-01-01T00:00:00",
          "1966-01-01T00:00:00",
          "1967-01-01T00:00:00",
          "1968-01-01T00:00:00",
          "1969-01-01T00:00:00",
          "1970-01-01T00:00:00",
          "1971-01-01T00:00:00",
          "1972-01-01T00:00:00",
          "1973-01-01T00:00:00",
          "1974-01-01T00:00:00",
          "1975-01-01T00:00:00",
          "1976-01-01T00:00:00",
          "1977-01-01T00:00:00",
          "1978-01-01T00:00:00",
          "1979-01-01T00:00:00",
          "1980-01-01T00:00:00",
          "1981-01-01T00:00:00",
          "1982-01-01T00:00:00",
          "1983-01-01T00:00:00",
          "1984-01-01T00:00:00",
          "1985-01-01T00:00:00",
          "1986-01-01T00:00:00",
          "1987-01-01T00:00:00",
          "1988-01-01T00:00:00",
          "1989-01-01T00:00:00",
          "1990-01-01T00:00:00",
          "1991-01-01T00:00:00",
          "1992-01-01T00:00:00",
          "1993-01-01T00:00:00",
          "1994-01-01T00:00:00",
          "1995-01-01T00:00:00",
          "1996-01-01T00:00:00",
          "1997-01-01T00:00:00",
          "1998-01-01T00:00:00",
          "1999-01-01T00:00:00",
          "2000-01-01T00:00:00",
          "2001-01-01T00:00:00",
          "2002-01-01T00:00:00",
          "2003-01-01T00:00:00",
          "2004-01-01T00:00:00",
          "2004-12-31T00:00:00",
          "2005-12-31T00:00:00",
          "2006-12-31T00:00:00",
          "2007-12-31T00:00:00",
          "2008-12-31T00:00:00",
          "2009-12-31T00:00:00",
          "2010-12-31T00:00:00",
          "2011-12-31T00:00:00",
          "2012-12-31T00:00:00",
          "2013-12-31T00:00:00",
          "2014-12-31T00:00:00",
          "2015-12-31T00:00:00",
          "2016-12-31T00:00:00",
          "2017-12-31T00:00:00",
          "2018-12-31T00:00:00",
          "2019-12-31T00:00:00",
          "2020-12-31T00:00:00",
          "2021-12-31T00:00:00",
          "2022-12-31T00:00:00",
          "2023-12-31T00:00:00",
          "2024-12-31T00:00:00",
          "2025-12-31T00:00:00",
          "2026-12-31T00:00:00",
          "2027-12-31T00:00:00",
          "2028-12-31T00:00:00",
          "2029-12-31T00:00:00",
          "2030-12-31T00:00:00",
          "2031-12-31T00:00:00",
          "2032-12-31T00:00:00",
          "2033-12-31T00:00:00",
          "2034-12-31T00:00:00",
          "2035-12-31T00:00:00",
          "2036-12-31T00:00:00",
          "2037-12-31T00:00:00",
          "2038-12-31T00:00:00",
          "2039-12-31T00:00:00",
          "2040-12-31T00:00:00",
          "2041-12-31T00:00:00",
          "2042-12-31T00:00:00",
          "2043-12-31T00:00:00",
          "2044-12-31T00:00:00",
          "2045-12-31T00:00:00",
          "2046-12-31T00:00:00",
          "2047-12-31T00:00:00",
          "2048-12-31T00:00:00",
          "2049-12-31T00:00:00",
          "2050-12-31T00:00:00"
         ],
         "y": [
          0.1865616214587559,
          0.19931753628196827,
          0.2054837637958084,
          0.2158880542310603,
          0.229334600864857,
          0.2437815950804509,
          0.24925182568234985,
          0.2608778944424573,
          0.27440603195161056,
          0.2846282556596663,
          0.29443241092338784,
          0.30163899699845487,
          0.31162328163585207,
          0.32146837648548543,
          0.3212296588563507,
          0.325727654216543,
          0.3357547471325532,
          0.34359501693836586,
          0.34378219147038586,
          0.348920287740522,
          0.3580761734430437,
          0.3661621100132229,
          0.3669103225216644,
          0.373670231487285,
          0.3809931959753635,
          0.3877144229707683,
          0.3904488296023361,
          0.39738483383552614,
          0.4203041511798164,
          0.4408932087624108,
          0.4582075212042773,
          0.4798618094207516,
          0.505567645716849,
          0.5292034308663826,
          0.5785103402954082,
          0.6250798726449102,
          0.6829391132822143,
          0.7404553956630813,
          0.8042479320930435,
          0.8670702694653856,
          0.9396855183701587,
          1.0069237464665883,
          1.071632327146166,
          1.135812209221623,
          1.191426407997427,
          1.2442636263688178,
          1.292401778598728,
          1.3442598508552572,
          1.3992820507729744,
          1.4536684229061252,
          1.502693410705118,
          1.5540996974102115,
          1.604433037736265,
          1.6532748426039992,
          1.6978754268492406,
          1.7446408431547242,
          1.7959256859942216,
          1.843922711546938,
          1.888702223802797,
          1.9353853140556472,
          1.9858323983141954,
          2.033446072396701,
          2.0787116942910733,
          2.1284228326597177,
          2.1766079651497643,
          2.229005456038176,
          2.2851088291421338,
          2.345190176229492,
          2.409445582759132,
          2.429571593049157,
          2.489849474333184,
          2.557051989514178,
          2.624099205586136,
          2.6476445762603804,
          2.712022905486948,
          2.7839641305086253,
          2.8512412372297735,
          2.881066569582337,
          2.9512434452447724,
          3.022911495827823,
          3.0984649237787387,
          3.1255234554423117,
          3.1965183761235827,
          3.2637426917412125,
          3.3435821283930753,
          3.3752948353752634,
          3.4462521781131845,
          3.51371751269848,
          3.594905718235866,
          3.63363488209984,
          3.6961148117968174,
          3.7729600997750135,
          3.846980673173487,
          3.8897096492275205,
          3.9667493364756554,
          4.0354114397261505,
          4.121887283968649,
          4.160473236420243,
          4.234159313797023,
          4.308793779697628,
          4.398069266630139,
          4.4272169723245876,
          4.511231259179515,
          4.578980959626554,
          4.663167758302236,
          4.703479648596903,
          4.777627090898201,
          4.862900022915602,
          4.928680188703371,
          4.981683052957869,
          5.060615298918334,
          5.134973411850889
         ]
        }
       ],
       "layout": {
        "height": 600,
        "showlegend": false,
        "template": {
         "data": {
          "bar": [
           {
            "error_x": {
             "color": "#2a3f5f"
            },
            "error_y": {
             "color": "#2a3f5f"
            },
            "marker": {
             "line": {
              "color": "#E5ECF6",
              "width": 0.5
             },
             "pattern": {
              "fillmode": "overlay",
              "size": 10,
              "solidity": 0.2
             }
            },
            "type": "bar"
           }
          ],
          "barpolar": [
           {
            "marker": {
             "line": {
              "color": "#E5ECF6",
              "width": 0.5
             },
             "pattern": {
              "fillmode": "overlay",
              "size": 10,
              "solidity": 0.2
             }
            },
            "type": "barpolar"
           }
          ],
          "carpet": [
           {
            "aaxis": {
             "endlinecolor": "#2a3f5f",
             "gridcolor": "white",
             "linecolor": "white",
             "minorgridcolor": "white",
             "startlinecolor": "#2a3f5f"
            },
            "baxis": {
             "endlinecolor": "#2a3f5f",
             "gridcolor": "white",
             "linecolor": "white",
             "minorgridcolor": "white",
             "startlinecolor": "#2a3f5f"
            },
            "type": "carpet"
           }
          ],
          "choropleth": [
           {
            "colorbar": {
             "outlinewidth": 0,
             "ticks": ""
            },
            "type": "choropleth"
           }
          ],
          "contour": [
           {
            "colorbar": {
             "outlinewidth": 0,
             "ticks": ""
            },
            "colorscale": [
             [
              0,
              "#0d0887"
             ],
             [
              0.1111111111111111,
              "#46039f"
             ],
             [
              0.2222222222222222,
              "#7201a8"
             ],
             [
              0.3333333333333333,
              "#9c179e"
             ],
             [
              0.4444444444444444,
              "#bd3786"
             ],
             [
              0.5555555555555556,
              "#d8576b"
             ],
             [
              0.6666666666666666,
              "#ed7953"
             ],
             [
              0.7777777777777778,
              "#fb9f3a"
             ],
             [
              0.8888888888888888,
              "#fdca26"
             ],
             [
              1,
              "#f0f921"
             ]
            ],
            "type": "contour"
           }
          ],
          "contourcarpet": [
           {
            "colorbar": {
             "outlinewidth": 0,
             "ticks": ""
            },
            "type": "contourcarpet"
           }
          ],
          "heatmap": [
           {
            "colorbar": {
             "outlinewidth": 0,
             "ticks": ""
            },
            "colorscale": [
             [
              0,
              "#0d0887"
             ],
             [
              0.1111111111111111,
              "#46039f"
             ],
             [
              0.2222222222222222,
              "#7201a8"
             ],
             [
              0.3333333333333333,
              "#9c179e"
             ],
             [
              0.4444444444444444,
              "#bd3786"
             ],
             [
              0.5555555555555556,
              "#d8576b"
             ],
             [
              0.6666666666666666,
              "#ed7953"
             ],
             [
              0.7777777777777778,
              "#fb9f3a"
             ],
             [
              0.8888888888888888,
              "#fdca26"
             ],
             [
              1,
              "#f0f921"
             ]
            ],
            "type": "heatmap"
           }
          ],
          "heatmapgl": [
           {
            "colorbar": {
             "outlinewidth": 0,
             "ticks": ""
            },
            "colorscale": [
             [
              0,
              "#0d0887"
             ],
             [
              0.1111111111111111,
              "#46039f"
             ],
             [
              0.2222222222222222,
              "#7201a8"
             ],
             [
              0.3333333333333333,
              "#9c179e"
             ],
             [
              0.4444444444444444,
              "#bd3786"
             ],
             [
              0.5555555555555556,
              "#d8576b"
             ],
             [
              0.6666666666666666,
              "#ed7953"
             ],
             [
              0.7777777777777778,
              "#fb9f3a"
             ],
             [
              0.8888888888888888,
              "#fdca26"
             ],
             [
              1,
              "#f0f921"
             ]
            ],
            "type": "heatmapgl"
           }
          ],
          "histogram": [
           {
            "marker": {
             "pattern": {
              "fillmode": "overlay",
              "size": 10,
              "solidity": 0.2
             }
            },
            "type": "histogram"
           }
          ],
          "histogram2d": [
           {
            "colorbar": {
             "outlinewidth": 0,
             "ticks": ""
            },
            "colorscale": [
             [
              0,
              "#0d0887"
             ],
             [
              0.1111111111111111,
              "#46039f"
             ],
             [
              0.2222222222222222,
              "#7201a8"
             ],
             [
              0.3333333333333333,
              "#9c179e"
             ],
             [
              0.4444444444444444,
              "#bd3786"
             ],
             [
              0.5555555555555556,
              "#d8576b"
             ],
             [
              0.6666666666666666,
              "#ed7953"
             ],
             [
              0.7777777777777778,
              "#fb9f3a"
             ],
             [
              0.8888888888888888,
              "#fdca26"
             ],
             [
              1,
              "#f0f921"
             ]
            ],
            "type": "histogram2d"
           }
          ],
          "histogram2dcontour": [
           {
            "colorbar": {
             "outlinewidth": 0,
             "ticks": ""
            },
            "colorscale": [
             [
              0,
              "#0d0887"
             ],
             [
              0.1111111111111111,
              "#46039f"
             ],
             [
              0.2222222222222222,
              "#7201a8"
             ],
             [
              0.3333333333333333,
              "#9c179e"
             ],
             [
              0.4444444444444444,
              "#bd3786"
             ],
             [
              0.5555555555555556,
              "#d8576b"
             ],
             [
              0.6666666666666666,
              "#ed7953"
             ],
             [
              0.7777777777777778,
              "#fb9f3a"
             ],
             [
              0.8888888888888888,
              "#fdca26"
             ],
             [
              1,
              "#f0f921"
             ]
            ],
            "type": "histogram2dcontour"
           }
          ],
          "mesh3d": [
           {
            "colorbar": {
             "outlinewidth": 0,
             "ticks": ""
            },
            "type": "mesh3d"
           }
          ],
          "parcoords": [
           {
            "line": {
             "colorbar": {
              "outlinewidth": 0,
              "ticks": ""
             }
            },
            "type": "parcoords"
           }
          ],
          "pie": [
           {
            "automargin": true,
            "type": "pie"
           }
          ],
          "scatter": [
           {
            "fillpattern": {
             "fillmode": "overlay",
             "size": 10,
             "solidity": 0.2
            },
            "type": "scatter"
           }
          ],
          "scatter3d": [
           {
            "line": {
             "colorbar": {
              "outlinewidth": 0,
              "ticks": ""
             }
            },
            "marker": {
             "colorbar": {
              "outlinewidth": 0,
              "ticks": ""
             }
            },
            "type": "scatter3d"
           }
          ],
          "scattercarpet": [
           {
            "marker": {
             "colorbar": {
              "outlinewidth": 0,
              "ticks": ""
             }
            },
            "type": "scattercarpet"
           }
          ],
          "scattergeo": [
           {
            "marker": {
             "colorbar": {
              "outlinewidth": 0,
              "ticks": ""
             }
            },
            "type": "scattergeo"
           }
          ],
          "scattergl": [
           {
            "marker": {
             "colorbar": {
              "outlinewidth": 0,
              "ticks": ""
             }
            },
            "type": "scattergl"
           }
          ],
          "scattermapbox": [
           {
            "marker": {
             "colorbar": {
              "outlinewidth": 0,
              "ticks": ""
             }
            },
            "type": "scattermapbox"
           }
          ],
          "scatterpolar": [
           {
            "marker": {
             "colorbar": {
              "outlinewidth": 0,
              "ticks": ""
             }
            },
            "type": "scatterpolar"
           }
          ],
          "scatterpolargl": [
           {
            "marker": {
             "colorbar": {
              "outlinewidth": 0,
              "ticks": ""
             }
            },
            "type": "scatterpolargl"
           }
          ],
          "scatterternary": [
           {
            "marker": {
             "colorbar": {
              "outlinewidth": 0,
              "ticks": ""
             }
            },
            "type": "scatterternary"
           }
          ],
          "surface": [
           {
            "colorbar": {
             "outlinewidth": 0,
             "ticks": ""
            },
            "colorscale": [
             [
              0,
              "#0d0887"
             ],
             [
              0.1111111111111111,
              "#46039f"
             ],
             [
              0.2222222222222222,
              "#7201a8"
             ],
             [
              0.3333333333333333,
              "#9c179e"
             ],
             [
              0.4444444444444444,
              "#bd3786"
             ],
             [
              0.5555555555555556,
              "#d8576b"
             ],
             [
              0.6666666666666666,
              "#ed7953"
             ],
             [
              0.7777777777777778,
              "#fb9f3a"
             ],
             [
              0.8888888888888888,
              "#fdca26"
             ],
             [
              1,
              "#f0f921"
             ]
            ],
            "type": "surface"
           }
          ],
          "table": [
           {
            "cells": {
             "fill": {
              "color": "#EBF0F8"
             },
             "line": {
              "color": "white"
             }
            },
            "header": {
             "fill": {
              "color": "#C8D4E3"
             },
             "line": {
              "color": "white"
             }
            },
            "type": "table"
           }
          ]
         },
         "layout": {
          "annotationdefaults": {
           "arrowcolor": "#2a3f5f",
           "arrowhead": 0,
           "arrowwidth": 1
          },
          "autotypenumbers": "strict",
          "coloraxis": {
           "colorbar": {
            "outlinewidth": 0,
            "ticks": ""
           }
          },
          "colorscale": {
           "diverging": [
            [
             0,
             "#8e0152"
            ],
            [
             0.1,
             "#c51b7d"
            ],
            [
             0.2,
             "#de77ae"
            ],
            [
             0.3,
             "#f1b6da"
            ],
            [
             0.4,
             "#fde0ef"
            ],
            [
             0.5,
             "#f7f7f7"
            ],
            [
             0.6,
             "#e6f5d0"
            ],
            [
             0.7,
             "#b8e186"
            ],
            [
             0.8,
             "#7fbc41"
            ],
            [
             0.9,
             "#4d9221"
            ],
            [
             1,
             "#276419"
            ]
           ],
           "sequential": [
            [
             0,
             "#0d0887"
            ],
            [
             0.1111111111111111,
             "#46039f"
            ],
            [
             0.2222222222222222,
             "#7201a8"
            ],
            [
             0.3333333333333333,
             "#9c179e"
            ],
            [
             0.4444444444444444,
             "#bd3786"
            ],
            [
             0.5555555555555556,
             "#d8576b"
            ],
            [
             0.6666666666666666,
             "#ed7953"
            ],
            [
             0.7777777777777778,
             "#fb9f3a"
            ],
            [
             0.8888888888888888,
             "#fdca26"
            ],
            [
             1,
             "#f0f921"
            ]
           ],
           "sequentialminus": [
            [
             0,
             "#0d0887"
            ],
            [
             0.1111111111111111,
             "#46039f"
            ],
            [
             0.2222222222222222,
             "#7201a8"
            ],
            [
             0.3333333333333333,
             "#9c179e"
            ],
            [
             0.4444444444444444,
             "#bd3786"
            ],
            [
             0.5555555555555556,
             "#d8576b"
            ],
            [
             0.6666666666666666,
             "#ed7953"
            ],
            [
             0.7777777777777778,
             "#fb9f3a"
            ],
            [
             0.8888888888888888,
             "#fdca26"
            ],
            [
             1,
             "#f0f921"
            ]
           ]
          },
          "colorway": [
           "#636efa",
           "#EF553B",
           "#00cc96",
           "#ab63fa",
           "#FFA15A",
           "#19d3f3",
           "#FF6692",
           "#B6E880",
           "#FF97FF",
           "#FECB52"
          ],
          "font": {
           "color": "#2a3f5f"
          },
          "geo": {
           "bgcolor": "white",
           "lakecolor": "white",
           "landcolor": "#E5ECF6",
           "showlakes": true,
           "showland": true,
           "subunitcolor": "white"
          },
          "hoverlabel": {
           "align": "left"
          },
          "hovermode": "closest",
          "mapbox": {
           "style": "light"
          },
          "paper_bgcolor": "white",
          "plot_bgcolor": "#E5ECF6",
          "polar": {
           "angularaxis": {
            "gridcolor": "white",
            "linecolor": "white",
            "ticks": ""
           },
           "bgcolor": "#E5ECF6",
           "radialaxis": {
            "gridcolor": "white",
            "linecolor": "white",
            "ticks": ""
           }
          },
          "scene": {
           "xaxis": {
            "backgroundcolor": "#E5ECF6",
            "gridcolor": "white",
            "gridwidth": 2,
            "linecolor": "white",
            "showbackground": true,
            "ticks": "",
            "zerolinecolor": "white"
           },
           "yaxis": {
            "backgroundcolor": "#E5ECF6",
            "gridcolor": "white",
            "gridwidth": 2,
            "linecolor": "white",
            "showbackground": true,
            "ticks": "",
            "zerolinecolor": "white"
           },
           "zaxis": {
            "backgroundcolor": "#E5ECF6",
            "gridcolor": "white",
            "gridwidth": 2,
            "linecolor": "white",
            "showbackground": true,
            "ticks": "",
            "zerolinecolor": "white"
           }
          },
          "shapedefaults": {
           "line": {
            "color": "#2a3f5f"
           }
          },
          "ternary": {
           "aaxis": {
            "gridcolor": "white",
            "linecolor": "white",
            "ticks": ""
           },
           "baxis": {
            "gridcolor": "white",
            "linecolor": "white",
            "ticks": ""
           },
           "bgcolor": "#E5ECF6",
           "caxis": {
            "gridcolor": "white",
            "linecolor": "white",
            "ticks": ""
           }
          },
          "title": {
           "x": 0.05
          },
          "xaxis": {
           "automargin": true,
           "gridcolor": "white",
           "linecolor": "white",
           "ticks": "",
           "title": {
            "standoff": 15
           },
           "zerolinecolor": "white",
           "zerolinewidth": 2
          },
          "yaxis": {
           "automargin": true,
           "gridcolor": "white",
           "linecolor": "white",
           "ticks": "",
           "title": {
            "standoff": 15
           },
           "zerolinecolor": "white",
           "zerolinewidth": 2
          }
         }
        },
        "width": 900,
        "xaxis": {
         "rangeselector": {
          "buttons": [
           {
            "count": 7,
            "label": "1w",
            "step": "day",
            "stepmode": "backward"
           },
           {
            "count": 1,
            "label": "1m",
            "step": "month",
            "stepmode": "backward"
           },
           {
            "count": 6,
            "label": "6m",
            "step": "month",
            "stepmode": "backward"
           },
           {
            "count": 1,
            "label": "1y",
            "step": "year",
            "stepmode": "backward"
           },
           {
            "step": "all"
           }
          ]
         },
         "rangeslider": {
          "visible": true
         },
         "title": {
          "text": "Year"
         },
         "type": "date"
        },
        "yaxis": {
         "title": {
          "text": "Price"
         }
        }
       }
      },
      "text/html": [
       "<div>                            <div id=\"f84c7859-ebd8-4cee-8cf8-8097b10e06c9\" class=\"plotly-graph-div\" style=\"height:600px; width:900px;\"></div>            <script type=\"text/javascript\">                require([\"plotly\"], function(Plotly) {                    window.PLOTLYENV=window.PLOTLYENV || {};                                    if (document.getElementById(\"f84c7859-ebd8-4cee-8cf8-8097b10e06c9\")) {                    Plotly.newPlot(                        \"f84c7859-ebd8-4cee-8cf8-8097b10e06c9\",                        [{\"marker\":{\"color\":\"black\",\"size\":4},\"mode\":\"markers\",\"name\":\"Actual\",\"x\":[\"1940-01-01T00:00:00\",\"1941-01-01T00:00:00\",\"1942-01-01T00:00:00\",\"1943-01-01T00:00:00\",\"1944-01-01T00:00:00\",\"1945-01-01T00:00:00\",\"1946-01-01T00:00:00\",\"1947-01-01T00:00:00\",\"1948-01-01T00:00:00\",\"1949-01-01T00:00:00\",\"1950-01-01T00:00:00\",\"1951-01-01T00:00:00\",\"1952-01-01T00:00:00\",\"1953-01-01T00:00:00\",\"1954-01-01T00:00:00\",\"1955-01-01T00:00:00\",\"1956-01-01T00:00:00\",\"1957-01-01T00:00:00\",\"1958-01-01T00:00:00\",\"1959-01-01T00:00:00\",\"1960-01-01T00:00:00\",\"1961-01-01T00:00:00\",\"1962-01-01T00:00:00\",\"1963-01-01T00:00:00\",\"1964-01-01T00:00:00\",\"1965-01-01T00:00:00\",\"1966-01-01T00:00:00\",\"1967-01-01T00:00:00\",\"1968-01-01T00:00:00\",\"1969-01-01T00:00:00\",\"1970-01-01T00:00:00\",\"1971-01-01T00:00:00\",\"1972-01-01T00:00:00\",\"1973-01-01T00:00:00\",\"1974-01-01T00:00:00\",\"1975-01-01T00:00:00\",\"1976-01-01T00:00:00\",\"1977-01-01T00:00:00\",\"1978-01-01T00:00:00\",\"1979-01-01T00:00:00\",\"1980-01-01T00:00:00\",\"1981-01-01T00:00:00\",\"1982-01-01T00:00:00\",\"1983-01-01T00:00:00\",\"1984-01-01T00:00:00\",\"1985-01-01T00:00:00\",\"1986-01-01T00:00:00\",\"1987-01-01T00:00:00\",\"1988-01-01T00:00:00\",\"1989-01-01T00:00:00\",\"1990-01-01T00:00:00\",\"1991-01-01T00:00:00\",\"1992-01-01T00:00:00\",\"1993-01-01T00:00:00\",\"1994-01-01T00:00:00\",\"1995-01-01T00:00:00\",\"1996-01-01T00:00:00\",\"1997-01-01T00:00:00\",\"1998-01-01T00:00:00\",\"1999-01-01T00:00:00\",\"2000-01-01T00:00:00\",\"2001-01-01T00:00:00\",\"2002-01-01T00:00:00\",\"2003-01-01T00:00:00\",\"2004-01-01T00:00:00\"],\"y\":[0.16,0.17,0.19,0.2,0.2,0.21,0.22,0.25,0.27,0.27,0.27,0.3,0.3,0.3,0.31,0.31,0.31,0.32,0.33,0.33,0.34,0.34,0.34,0.35,0.35,0.36,0.37,0.38,0.4,0.42,0.44,0.46,0.48,0.51,0.56,0.61,0.65,0.69,0.74,0.83,0.94,1.04,1.1,1.13,1.18,1.23,1.25,1.29,1.35,1.41,1.49,1.55,1.6,1.65,1.69,1.74,1.79,1.83,1.86,1.9,1.96,2.02,2.05,2.1,2.15],\"type\":\"scatter\"},{\"hoverinfo\":\"skip\",\"line\":{\"width\":0},\"mode\":\"lines\",\"x\":[\"1940-01-01T00:00:00\",\"1941-01-01T00:00:00\",\"1942-01-01T00:00:00\",\"1943-01-01T00:00:00\",\"1944-01-01T00:00:00\",\"1945-01-01T00:00:00\",\"1946-01-01T00:00:00\",\"1947-01-01T00:00:00\",\"1948-01-01T00:00:00\",\"1949-01-01T00:00:00\",\"1950-01-01T00:00:00\",\"1951-01-01T00:00:00\",\"1952-01-01T00:00:00\",\"1953-01-01T00:00:00\",\"1954-01-01T00:00:00\",\"1955-01-01T00:00:00\",\"1956-01-01T00:00:00\",\"1957-01-01T00:00:00\",\"1958-01-01T00:00:00\",\"1959-01-01T00:00:00\",\"1960-01-01T00:00:00\",\"1961-01-01T00:00:00\",\"1962-01-01T00:00:00\",\"1963-01-01T00:00:00\",\"1964-01-01T00:00:00\",\"1965-01-01T00:00:00\",\"1966-01-01T00:00:00\",\"1967-01-01T00:00:00\",\"1968-01-01T00:00:00\",\"1969-01-01T00:00:00\",\"1970-01-01T00:00:00\",\"1971-01-01T00:00:00\",\"1972-01-01T00:00:00\",\"1973-01-01T00:00:00\",\"1974-01-01T00:00:00\",\"1975-01-01T00:00:00\",\"1976-01-01T00:00:00\",\"1977-01-01T00:00:00\",\"1978-01-01T00:00:00\",\"1979-01-01T00:00:00\",\"1980-01-01T00:00:00\",\"1981-01-01T00:00:00\",\"1982-01-01T00:00:00\",\"1983-01-01T00:00:00\",\"1984-01-01T00:00:00\",\"1985-01-01T00:00:00\",\"1986-01-01T00:00:00\",\"1987-01-01T00:00:00\",\"1988-01-01T00:00:00\",\"1989-01-01T00:00:00\",\"1990-01-01T00:00:00\",\"1991-01-01T00:00:00\",\"1992-01-01T00:00:00\",\"1993-01-01T00:00:00\",\"1994-01-01T00:00:00\",\"1995-01-01T00:00:00\",\"1996-01-01T00:00:00\",\"1997-01-01T00:00:00\",\"1998-01-01T00:00:00\",\"1999-01-01T00:00:00\",\"2000-01-01T00:00:00\",\"2001-01-01T00:00:00\",\"2002-01-01T00:00:00\",\"2003-01-01T00:00:00\",\"2004-01-01T00:00:00\",\"2004-12-31T00:00:00\",\"2005-12-31T00:00:00\",\"2006-12-31T00:00:00\",\"2007-12-31T00:00:00\",\"2008-12-31T00:00:00\",\"2009-12-31T00:00:00\",\"2010-12-31T00:00:00\",\"2011-12-31T00:00:00\",\"2012-12-31T00:00:00\",\"2013-12-31T00:00:00\",\"2014-12-31T00:00:00\",\"2015-12-31T00:00:00\",\"2016-12-31T00:00:00\",\"2017-12-31T00:00:00\",\"2018-12-31T00:00:00\",\"2019-12-31T00:00:00\",\"2020-12-31T00:00:00\",\"2021-12-31T00:00:00\",\"2022-12-31T00:00:00\",\"2023-12-31T00:00:00\",\"2024-12-31T00:00:00\",\"2025-12-31T00:00:00\",\"2026-12-31T00:00:00\",\"2027-12-31T00:00:00\",\"2028-12-31T00:00:00\",\"2029-12-31T00:00:00\",\"2030-12-31T00:00:00\",\"2031-12-31T00:00:00\",\"2032-12-31T00:00:00\",\"2033-12-31T00:00:00\",\"2034-12-31T00:00:00\",\"2035-12-31T00:00:00\",\"2036-12-31T00:00:00\",\"2037-12-31T00:00:00\",\"2038-12-31T00:00:00\",\"2039-12-31T00:00:00\",\"2040-12-31T00:00:00\",\"2041-12-31T00:00:00\",\"2042-12-31T00:00:00\",\"2043-12-31T00:00:00\",\"2044-12-31T00:00:00\",\"2045-12-31T00:00:00\",\"2046-12-31T00:00:00\",\"2047-12-31T00:00:00\",\"2048-12-31T00:00:00\",\"2049-12-31T00:00:00\",\"2050-12-31T00:00:00\"],\"y\":[0.14435061249243633,0.15811903199448613,0.16609466476008866,0.17720496473729624,0.19044269844769748,0.20161048851111374,0.2088947218000596,0.2201118806902307,0.23374820345065783,0.24426708286701654,0.2539737693360147,0.2617654064040257,0.2732353346560238,0.27899239343111926,0.2801334952103325,0.28632583568589365,0.29346426312813806,0.3019066234306514,0.3042768669990414,0.3084217541874262,0.3171259432432578,0.3242868860815483,0.3278261156342428,0.3332823015387221,0.3392347608921719,0.34761068043052384,0.3526893326863257,0.3580949863499915,0.3775984346209094,0.39957023552707993,0.4175595577731852,0.43796022355207376,0.46582005915268954,0.4886263638049066,0.536271959983607,0.5833980154879828,0.6439449667688925,0.7004974958715677,0.7614040572776021,0.8303191383967223,0.8983674798326362,0.9669529698001451,1.0296766621595945,1.0963235327307916,1.1509063831338386,1.2052725369339066,1.2531127314031267,1.304893972611271,1.360320272570285,1.4136018028231483,1.4626040272308674,1.5148393811118102,1.5630120999851123,1.6120383871063309,1.6586274644290397,1.704555039681826,1.7556680708129555,1.8024194472447632,1.8469541930070086,1.896092732317837,1.9450058464989999,1.9938102453876798,2.038357058617379,2.0860519885567994,2.133513933612691,2.1886143458866223,2.244056165555319,2.3003147851497108,2.358703928459395,2.3707251156603153,2.4195376868777836,2.4744411943726274,2.5253903177256247,2.5333921485963864,2.577454505946582,2.6263270088281496,2.6778151375936785,2.683911129960805,2.725966076863332,2.771159674901793,2.8224842908998475,2.819389079042287,2.86308752912827,2.90930525003843,2.9616490269423457,2.9603480528228583,3.0076677099298226,3.043907258907145,3.0973687114847834,3.0996895535188242,3.1372417276149993,3.1841884063869967,3.228946548063227,3.231512806382368,3.2553934487028533,3.3016463239473315,3.351250682935904,3.3501851853198708,3.3843215730782936,3.4373805418000756,3.4788358994004476,3.4805701931241204,3.5072146641081776,3.5495737265061993,3.6022372194664785,3.6006799808429975,3.6304084774781225,3.678180378853505,3.713436039066946,3.7050341532968973,3.7331200901577204,3.76692188028336],\"type\":\"scatter\"},{\"fill\":\"tonexty\",\"fillcolor\":\"rgba(0, 114, 178, 0.2)\",\"line\":{\"color\":\"#0072B2\",\"width\":2},\"mode\":\"lines\",\"name\":\"Predicted\",\"x\":[\"1940-01-01T00:00:00\",\"1941-01-01T00:00:00\",\"1942-01-01T00:00:00\",\"1943-01-01T00:00:00\",\"1944-01-01T00:00:00\",\"1945-01-01T00:00:00\",\"1946-01-01T00:00:00\",\"1947-01-01T00:00:00\",\"1948-01-01T00:00:00\",\"1949-01-01T00:00:00\",\"1950-01-01T00:00:00\",\"1951-01-01T00:00:00\",\"1952-01-01T00:00:00\",\"1953-01-01T00:00:00\",\"1954-01-01T00:00:00\",\"1955-01-01T00:00:00\",\"1956-01-01T00:00:00\",\"1957-01-01T00:00:00\",\"1958-01-01T00:00:00\",\"1959-01-01T00:00:00\",\"1960-01-01T00:00:00\",\"1961-01-01T00:00:00\",\"1962-01-01T00:00:00\",\"1963-01-01T00:00:00\",\"1964-01-01T00:00:00\",\"1965-01-01T00:00:00\",\"1966-01-01T00:00:00\",\"1967-01-01T00:00:00\",\"1968-01-01T00:00:00\",\"1969-01-01T00:00:00\",\"1970-01-01T00:00:00\",\"1971-01-01T00:00:00\",\"1972-01-01T00:00:00\",\"1973-01-01T00:00:00\",\"1974-01-01T00:00:00\",\"1975-01-01T00:00:00\",\"1976-01-01T00:00:00\",\"1977-01-01T00:00:00\",\"1978-01-01T00:00:00\",\"1979-01-01T00:00:00\",\"1980-01-01T00:00:00\",\"1981-01-01T00:00:00\",\"1982-01-01T00:00:00\",\"1983-01-01T00:00:00\",\"1984-01-01T00:00:00\",\"1985-01-01T00:00:00\",\"1986-01-01T00:00:00\",\"1987-01-01T00:00:00\",\"1988-01-01T00:00:00\",\"1989-01-01T00:00:00\",\"1990-01-01T00:00:00\",\"1991-01-01T00:00:00\",\"1992-01-01T00:00:00\",\"1993-01-01T00:00:00\",\"1994-01-01T00:00:00\",\"1995-01-01T00:00:00\",\"1996-01-01T00:00:00\",\"1997-01-01T00:00:00\",\"1998-01-01T00:00:00\",\"1999-01-01T00:00:00\",\"2000-01-01T00:00:00\",\"2001-01-01T00:00:00\",\"2002-01-01T00:00:00\",\"2003-01-01T00:00:00\",\"2004-01-01T00:00:00\",\"2004-12-31T00:00:00\",\"2005-12-31T00:00:00\",\"2006-12-31T00:00:00\",\"2007-12-31T00:00:00\",\"2008-12-31T00:00:00\",\"2009-12-31T00:00:00\",\"2010-12-31T00:00:00\",\"2011-12-31T00:00:00\",\"2012-12-31T00:00:00\",\"2013-12-31T00:00:00\",\"2014-12-31T00:00:00\",\"2015-12-31T00:00:00\",\"2016-12-31T00:00:00\",\"2017-12-31T00:00:00\",\"2018-12-31T00:00:00\",\"2019-12-31T00:00:00\",\"2020-12-31T00:00:00\",\"2021-12-31T00:00:00\",\"2022-12-31T00:00:00\",\"2023-12-31T00:00:00\",\"2024-12-31T00:00:00\",\"2025-12-31T00:00:00\",\"2026-12-31T00:00:00\",\"2027-12-31T00:00:00\",\"2028-12-31T00:00:00\",\"2029-12-31T00:00:00\",\"2030-12-31T00:00:00\",\"2031-12-31T00:00:00\",\"2032-12-31T00:00:00\",\"2033-12-31T00:00:00\",\"2034-12-31T00:00:00\",\"2035-12-31T00:00:00\",\"2036-12-31T00:00:00\",\"2037-12-31T00:00:00\",\"2038-12-31T00:00:00\",\"2039-12-31T00:00:00\",\"2040-12-31T00:00:00\",\"2041-12-31T00:00:00\",\"2042-12-31T00:00:00\",\"2043-12-31T00:00:00\",\"2044-12-31T00:00:00\",\"2045-12-31T00:00:00\",\"2046-12-31T00:00:00\",\"2047-12-31T00:00:00\",\"2048-12-31T00:00:00\",\"2049-12-31T00:00:00\",\"2050-12-31T00:00:00\"],\"y\":[0.16552613191346333,0.17766636003706143,0.1854525313291645,0.19611599182152822,0.20964399823578,0.22178422665303388,0.22957039823801254,0.24023385804424296,0.25376186377236243,0.26587613173451147,0.2736364137946556,0.2813163137896906,0.29186075970657416,0.29873141435638406,0.30126240991647346,0.30667043883157763,0.3149430136685774,0.3218134116026461,0.32434415114840137,0.3297521798903982,0.33802475455422865,0.3448951527994649,0.34742589265556556,0.3528397563300519,0.36111816592638873,0.36823466098635504,0.37101082526151374,0.3766642783883254,0.399580472690678,0.4211346101145988,0.4383407495677634,0.45842417787259787,0.48470074294566023,0.5096244576355625,0.5560118931027955,0.6052766174217129,0.6633791659072362,0.7202160584847201,0.7836113119490439,0.849883854265046,0.9190209427803874,0.9869226070041375,1.0502958062025898,1.1165462942526914,1.1712342621205438,1.224647219064933,1.273593350426266,1.325416770639286,1.3801047365749757,1.433517691581908,1.482463822737079,1.5342872427439598,1.58438648913125,1.6331981527554473,1.6775555643692137,1.7247902648346618,1.774889511221952,1.8237011748461496,1.8680585864599104,1.915293286925368,1.9653925333127136,2.0142041969368893,2.0585616085506246,2.105796309016063,2.1558955554033417,2.2088415448633705,2.264611451920738,2.3231774742389146,2.3845068867729617,2.3993445669541935,2.4551144740115514,2.5136804963293713,2.5750099088634237,2.5898475890449553,2.6456174961021333,2.704183518420121,2.7655129309542996,2.780350611135574,2.8361205181929092,2.8946865405108873,2.956015953044842,2.970853633226385,3.02662354028354,3.0851895626016246,3.146518975135742,3.161356655316967,3.2171265623743266,3.2756925846922242,3.3370219972261874,3.3518596774077074,3.4076295844651407,3.4661956067831143,3.52752501931731,3.5423626994986166,3.5981326065557226,3.656698628873873,3.71802804140799,3.7328657215890413,3.7886356286462832,3.847201650964401,3.9085310634982684,3.9233687436798066,3.9791386507373043,4.037704673055181,4.099034085589374,4.113871765770748,4.169641672828001,4.22820769514583,4.2895371076800535,4.304374787861379,4.360144694918447,4.418710717236406],\"type\":\"scatter\"},{\"fill\":\"tonexty\",\"fillcolor\":\"rgba(0, 114, 178, 0.2)\",\"hoverinfo\":\"skip\",\"line\":{\"width\":0},\"mode\":\"lines\",\"x\":[\"1940-01-01T00:00:00\",\"1941-01-01T00:00:00\",\"1942-01-01T00:00:00\",\"1943-01-01T00:00:00\",\"1944-01-01T00:00:00\",\"1945-01-01T00:00:00\",\"1946-01-01T00:00:00\",\"1947-01-01T00:00:00\",\"1948-01-01T00:00:00\",\"1949-01-01T00:00:00\",\"1950-01-01T00:00:00\",\"1951-01-01T00:00:00\",\"1952-01-01T00:00:00\",\"1953-01-01T00:00:00\",\"1954-01-01T00:00:00\",\"1955-01-01T00:00:00\",\"1956-01-01T00:00:00\",\"1957-01-01T00:00:00\",\"1958-01-01T00:00:00\",\"1959-01-01T00:00:00\",\"1960-01-01T00:00:00\",\"1961-01-01T00:00:00\",\"1962-01-01T00:00:00\",\"1963-01-01T00:00:00\",\"1964-01-01T00:00:00\",\"1965-01-01T00:00:00\",\"1966-01-01T00:00:00\",\"1967-01-01T00:00:00\",\"1968-01-01T00:00:00\",\"1969-01-01T00:00:00\",\"1970-01-01T00:00:00\",\"1971-01-01T00:00:00\",\"1972-01-01T00:00:00\",\"1973-01-01T00:00:00\",\"1974-01-01T00:00:00\",\"1975-01-01T00:00:00\",\"1976-01-01T00:00:00\",\"1977-01-01T00:00:00\",\"1978-01-01T00:00:00\",\"1979-01-01T00:00:00\",\"1980-01-01T00:00:00\",\"1981-01-01T00:00:00\",\"1982-01-01T00:00:00\",\"1983-01-01T00:00:00\",\"1984-01-01T00:00:00\",\"1985-01-01T00:00:00\",\"1986-01-01T00:00:00\",\"1987-01-01T00:00:00\",\"1988-01-01T00:00:00\",\"1989-01-01T00:00:00\",\"1990-01-01T00:00:00\",\"1991-01-01T00:00:00\",\"1992-01-01T00:00:00\",\"1993-01-01T00:00:00\",\"1994-01-01T00:00:00\",\"1995-01-01T00:00:00\",\"1996-01-01T00:00:00\",\"1997-01-01T00:00:00\",\"1998-01-01T00:00:00\",\"1999-01-01T00:00:00\",\"2000-01-01T00:00:00\",\"2001-01-01T00:00:00\",\"2002-01-01T00:00:00\",\"2003-01-01T00:00:00\",\"2004-01-01T00:00:00\",\"2004-12-31T00:00:00\",\"2005-12-31T00:00:00\",\"2006-12-31T00:00:00\",\"2007-12-31T00:00:00\",\"2008-12-31T00:00:00\",\"2009-12-31T00:00:00\",\"2010-12-31T00:00:00\",\"2011-12-31T00:00:00\",\"2012-12-31T00:00:00\",\"2013-12-31T00:00:00\",\"2014-12-31T00:00:00\",\"2015-12-31T00:00:00\",\"2016-12-31T00:00:00\",\"2017-12-31T00:00:00\",\"2018-12-31T00:00:00\",\"2019-12-31T00:00:00\",\"2020-12-31T00:00:00\",\"2021-12-31T00:00:00\",\"2022-12-31T00:00:00\",\"2023-12-31T00:00:00\",\"2024-12-31T00:00:00\",\"2025-12-31T00:00:00\",\"2026-12-31T00:00:00\",\"2027-12-31T00:00:00\",\"2028-12-31T00:00:00\",\"2029-12-31T00:00:00\",\"2030-12-31T00:00:00\",\"2031-12-31T00:00:00\",\"2032-12-31T00:00:00\",\"2033-12-31T00:00:00\",\"2034-12-31T00:00:00\",\"2035-12-31T00:00:00\",\"2036-12-31T00:00:00\",\"2037-12-31T00:00:00\",\"2038-12-31T00:00:00\",\"2039-12-31T00:00:00\",\"2040-12-31T00:00:00\",\"2041-12-31T00:00:00\",\"2042-12-31T00:00:00\",\"2043-12-31T00:00:00\",\"2044-12-31T00:00:00\",\"2045-12-31T00:00:00\",\"2046-12-31T00:00:00\",\"2047-12-31T00:00:00\",\"2048-12-31T00:00:00\",\"2049-12-31T00:00:00\",\"2050-12-31T00:00:00\"],\"y\":[0.1865616214587559,0.19931753628196827,0.2054837637958084,0.2158880542310603,0.229334600864857,0.2437815950804509,0.24925182568234985,0.2608778944424573,0.27440603195161056,0.2846282556596663,0.29443241092338784,0.30163899699845487,0.31162328163585207,0.32146837648548543,0.3212296588563507,0.325727654216543,0.3357547471325532,0.34359501693836586,0.34378219147038586,0.348920287740522,0.3580761734430437,0.3661621100132229,0.3669103225216644,0.373670231487285,0.3809931959753635,0.3877144229707683,0.3904488296023361,0.39738483383552614,0.4203041511798164,0.4408932087624108,0.4582075212042773,0.4798618094207516,0.505567645716849,0.5292034308663826,0.5785103402954082,0.6250798726449102,0.6829391132822143,0.7404553956630813,0.8042479320930435,0.8670702694653856,0.9396855183701587,1.0069237464665883,1.071632327146166,1.135812209221623,1.191426407997427,1.2442636263688178,1.292401778598728,1.3442598508552572,1.3992820507729744,1.4536684229061252,1.502693410705118,1.5540996974102115,1.604433037736265,1.6532748426039992,1.6978754268492406,1.7446408431547242,1.7959256859942216,1.843922711546938,1.888702223802797,1.9353853140556472,1.9858323983141954,2.033446072396701,2.0787116942910733,2.1284228326597177,2.1766079651497643,2.229005456038176,2.2851088291421338,2.345190176229492,2.409445582759132,2.429571593049157,2.489849474333184,2.557051989514178,2.624099205586136,2.6476445762603804,2.712022905486948,2.7839641305086253,2.8512412372297735,2.881066569582337,2.9512434452447724,3.022911495827823,3.0984649237787387,3.1255234554423117,3.1965183761235827,3.2637426917412125,3.3435821283930753,3.3752948353752634,3.4462521781131845,3.51371751269848,3.594905718235866,3.63363488209984,3.6961148117968174,3.7729600997750135,3.846980673173487,3.8897096492275205,3.9667493364756554,4.0354114397261505,4.121887283968649,4.160473236420243,4.234159313797023,4.308793779697628,4.398069266630139,4.4272169723245876,4.511231259179515,4.578980959626554,4.663167758302236,4.703479648596903,4.777627090898201,4.862900022915602,4.928680188703371,4.981683052957869,5.060615298918334,5.134973411850889],\"type\":\"scatter\"}],                        {\"height\":600,\"showlegend\":false,\"width\":900,\"xaxis\":{\"rangeselector\":{\"buttons\":[{\"count\":7,\"label\":\"1w\",\"step\":\"day\",\"stepmode\":\"backward\"},{\"count\":1,\"label\":\"1m\",\"step\":\"month\",\"stepmode\":\"backward\"},{\"count\":6,\"label\":\"6m\",\"step\":\"month\",\"stepmode\":\"backward\"},{\"count\":1,\"label\":\"1y\",\"step\":\"year\",\"stepmode\":\"backward\"},{\"step\":\"all\"}]},\"rangeslider\":{\"visible\":true},\"title\":{\"text\":\"Year\"},\"type\":\"date\"},\"yaxis\":{\"title\":{\"text\":\"Price\"}},\"template\":{\"data\":{\"histogram2dcontour\":[{\"type\":\"histogram2dcontour\",\"colorbar\":{\"outlinewidth\":0,\"ticks\":\"\"},\"colorscale\":[[0.0,\"#0d0887\"],[0.1111111111111111,\"#46039f\"],[0.2222222222222222,\"#7201a8\"],[0.3333333333333333,\"#9c179e\"],[0.4444444444444444,\"#bd3786\"],[0.5555555555555556,\"#d8576b\"],[0.6666666666666666,\"#ed7953\"],[0.7777777777777778,\"#fb9f3a\"],[0.8888888888888888,\"#fdca26\"],[1.0,\"#f0f921\"]]}],\"choropleth\":[{\"type\":\"choropleth\",\"colorbar\":{\"outlinewidth\":0,\"ticks\":\"\"}}],\"histogram2d\":[{\"type\":\"histogram2d\",\"colorbar\":{\"outlinewidth\":0,\"ticks\":\"\"},\"colorscale\":[[0.0,\"#0d0887\"],[0.1111111111111111,\"#46039f\"],[0.2222222222222222,\"#7201a8\"],[0.3333333333333333,\"#9c179e\"],[0.4444444444444444,\"#bd3786\"],[0.5555555555555556,\"#d8576b\"],[0.6666666666666666,\"#ed7953\"],[0.7777777777777778,\"#fb9f3a\"],[0.8888888888888888,\"#fdca26\"],[1.0,\"#f0f921\"]]}],\"heatmap\":[{\"type\":\"heatmap\",\"colorbar\":{\"outlinewidth\":0,\"ticks\":\"\"},\"colorscale\":[[0.0,\"#0d0887\"],[0.1111111111111111,\"#46039f\"],[0.2222222222222222,\"#7201a8\"],[0.3333333333333333,\"#9c179e\"],[0.4444444444444444,\"#bd3786\"],[0.5555555555555556,\"#d8576b\"],[0.6666666666666666,\"#ed7953\"],[0.7777777777777778,\"#fb9f3a\"],[0.8888888888888888,\"#fdca26\"],[1.0,\"#f0f921\"]]}],\"heatmapgl\":[{\"type\":\"heatmapgl\",\"colorbar\":{\"outlinewidth\":0,\"ticks\":\"\"},\"colorscale\":[[0.0,\"#0d0887\"],[0.1111111111111111,\"#46039f\"],[0.2222222222222222,\"#7201a8\"],[0.3333333333333333,\"#9c179e\"],[0.4444444444444444,\"#bd3786\"],[0.5555555555555556,\"#d8576b\"],[0.6666666666666666,\"#ed7953\"],[0.7777777777777778,\"#fb9f3a\"],[0.8888888888888888,\"#fdca26\"],[1.0,\"#f0f921\"]]}],\"contourcarpet\":[{\"type\":\"contourcarpet\",\"colorbar\":{\"outlinewidth\":0,\"ticks\":\"\"}}],\"contour\":[{\"type\":\"contour\",\"colorbar\":{\"outlinewidth\":0,\"ticks\":\"\"},\"colorscale\":[[0.0,\"#0d0887\"],[0.1111111111111111,\"#46039f\"],[0.2222222222222222,\"#7201a8\"],[0.3333333333333333,\"#9c179e\"],[0.4444444444444444,\"#bd3786\"],[0.5555555555555556,\"#d8576b\"],[0.6666666666666666,\"#ed7953\"],[0.7777777777777778,\"#fb9f3a\"],[0.8888888888888888,\"#fdca26\"],[1.0,\"#f0f921\"]]}],\"surface\":[{\"type\":\"surface\",\"colorbar\":{\"outlinewidth\":0,\"ticks\":\"\"},\"colorscale\":[[0.0,\"#0d0887\"],[0.1111111111111111,\"#46039f\"],[0.2222222222222222,\"#7201a8\"],[0.3333333333333333,\"#9c179e\"],[0.4444444444444444,\"#bd3786\"],[0.5555555555555556,\"#d8576b\"],[0.6666666666666666,\"#ed7953\"],[0.7777777777777778,\"#fb9f3a\"],[0.8888888888888888,\"#fdca26\"],[1.0,\"#f0f921\"]]}],\"mesh3d\":[{\"type\":\"mesh3d\",\"colorbar\":{\"outlinewidth\":0,\"ticks\":\"\"}}],\"scatter\":[{\"fillpattern\":{\"fillmode\":\"overlay\",\"size\":10,\"solidity\":0.2},\"type\":\"scatter\"}],\"parcoords\":[{\"type\":\"parcoords\",\"line\":{\"colorbar\":{\"outlinewidth\":0,\"ticks\":\"\"}}}],\"scatterpolargl\":[{\"type\":\"scatterpolargl\",\"marker\":{\"colorbar\":{\"outlinewidth\":0,\"ticks\":\"\"}}}],\"bar\":[{\"error_x\":{\"color\":\"#2a3f5f\"},\"error_y\":{\"color\":\"#2a3f5f\"},\"marker\":{\"line\":{\"color\":\"#E5ECF6\",\"width\":0.5},\"pattern\":{\"fillmode\":\"overlay\",\"size\":10,\"solidity\":0.2}},\"type\":\"bar\"}],\"scattergeo\":[{\"type\":\"scattergeo\",\"marker\":{\"colorbar\":{\"outlinewidth\":0,\"ticks\":\"\"}}}],\"scatterpolar\":[{\"type\":\"scatterpolar\",\"marker\":{\"colorbar\":{\"outlinewidth\":0,\"ticks\":\"\"}}}],\"histogram\":[{\"marker\":{\"pattern\":{\"fillmode\":\"overlay\",\"size\":10,\"solidity\":0.2}},\"type\":\"histogram\"}],\"scattergl\":[{\"type\":\"scattergl\",\"marker\":{\"colorbar\":{\"outlinewidth\":0,\"ticks\":\"\"}}}],\"scatter3d\":[{\"type\":\"scatter3d\",\"line\":{\"colorbar\":{\"outlinewidth\":0,\"ticks\":\"\"}},\"marker\":{\"colorbar\":{\"outlinewidth\":0,\"ticks\":\"\"}}}],\"scattermapbox\":[{\"type\":\"scattermapbox\",\"marker\":{\"colorbar\":{\"outlinewidth\":0,\"ticks\":\"\"}}}],\"scatterternary\":[{\"type\":\"scatterternary\",\"marker\":{\"colorbar\":{\"outlinewidth\":0,\"ticks\":\"\"}}}],\"scattercarpet\":[{\"type\":\"scattercarpet\",\"marker\":{\"colorbar\":{\"outlinewidth\":0,\"ticks\":\"\"}}}],\"carpet\":[{\"aaxis\":{\"endlinecolor\":\"#2a3f5f\",\"gridcolor\":\"white\",\"linecolor\":\"white\",\"minorgridcolor\":\"white\",\"startlinecolor\":\"#2a3f5f\"},\"baxis\":{\"endlinecolor\":\"#2a3f5f\",\"gridcolor\":\"white\",\"linecolor\":\"white\",\"minorgridcolor\":\"white\",\"startlinecolor\":\"#2a3f5f\"},\"type\":\"carpet\"}],\"table\":[{\"cells\":{\"fill\":{\"color\":\"#EBF0F8\"},\"line\":{\"color\":\"white\"}},\"header\":{\"fill\":{\"color\":\"#C8D4E3\"},\"line\":{\"color\":\"white\"}},\"type\":\"table\"}],\"barpolar\":[{\"marker\":{\"line\":{\"color\":\"#E5ECF6\",\"width\":0.5},\"pattern\":{\"fillmode\":\"overlay\",\"size\":10,\"solidity\":0.2}},\"type\":\"barpolar\"}],\"pie\":[{\"automargin\":true,\"type\":\"pie\"}]},\"layout\":{\"autotypenumbers\":\"strict\",\"colorway\":[\"#636efa\",\"#EF553B\",\"#00cc96\",\"#ab63fa\",\"#FFA15A\",\"#19d3f3\",\"#FF6692\",\"#B6E880\",\"#FF97FF\",\"#FECB52\"],\"font\":{\"color\":\"#2a3f5f\"},\"hovermode\":\"closest\",\"hoverlabel\":{\"align\":\"left\"},\"paper_bgcolor\":\"white\",\"plot_bgcolor\":\"#E5ECF6\",\"polar\":{\"bgcolor\":\"#E5ECF6\",\"angularaxis\":{\"gridcolor\":\"white\",\"linecolor\":\"white\",\"ticks\":\"\"},\"radialaxis\":{\"gridcolor\":\"white\",\"linecolor\":\"white\",\"ticks\":\"\"}},\"ternary\":{\"bgcolor\":\"#E5ECF6\",\"aaxis\":{\"gridcolor\":\"white\",\"linecolor\":\"white\",\"ticks\":\"\"},\"baxis\":{\"gridcolor\":\"white\",\"linecolor\":\"white\",\"ticks\":\"\"},\"caxis\":{\"gridcolor\":\"white\",\"linecolor\":\"white\",\"ticks\":\"\"}},\"coloraxis\":{\"colorbar\":{\"outlinewidth\":0,\"ticks\":\"\"}},\"colorscale\":{\"sequential\":[[0.0,\"#0d0887\"],[0.1111111111111111,\"#46039f\"],[0.2222222222222222,\"#7201a8\"],[0.3333333333333333,\"#9c179e\"],[0.4444444444444444,\"#bd3786\"],[0.5555555555555556,\"#d8576b\"],[0.6666666666666666,\"#ed7953\"],[0.7777777777777778,\"#fb9f3a\"],[0.8888888888888888,\"#fdca26\"],[1.0,\"#f0f921\"]],\"sequentialminus\":[[0.0,\"#0d0887\"],[0.1111111111111111,\"#46039f\"],[0.2222222222222222,\"#7201a8\"],[0.3333333333333333,\"#9c179e\"],[0.4444444444444444,\"#bd3786\"],[0.5555555555555556,\"#d8576b\"],[0.6666666666666666,\"#ed7953\"],[0.7777777777777778,\"#fb9f3a\"],[0.8888888888888888,\"#fdca26\"],[1.0,\"#f0f921\"]],\"diverging\":[[0,\"#8e0152\"],[0.1,\"#c51b7d\"],[0.2,\"#de77ae\"],[0.3,\"#f1b6da\"],[0.4,\"#fde0ef\"],[0.5,\"#f7f7f7\"],[0.6,\"#e6f5d0\"],[0.7,\"#b8e186\"],[0.8,\"#7fbc41\"],[0.9,\"#4d9221\"],[1,\"#276419\"]]},\"xaxis\":{\"gridcolor\":\"white\",\"linecolor\":\"white\",\"ticks\":\"\",\"title\":{\"standoff\":15},\"zerolinecolor\":\"white\",\"automargin\":true,\"zerolinewidth\":2},\"yaxis\":{\"gridcolor\":\"white\",\"linecolor\":\"white\",\"ticks\":\"\",\"title\":{\"standoff\":15},\"zerolinecolor\":\"white\",\"automargin\":true,\"zerolinewidth\":2},\"scene\":{\"xaxis\":{\"backgroundcolor\":\"#E5ECF6\",\"gridcolor\":\"white\",\"linecolor\":\"white\",\"showbackground\":true,\"ticks\":\"\",\"zerolinecolor\":\"white\",\"gridwidth\":2},\"yaxis\":{\"backgroundcolor\":\"#E5ECF6\",\"gridcolor\":\"white\",\"linecolor\":\"white\",\"showbackground\":true,\"ticks\":\"\",\"zerolinecolor\":\"white\",\"gridwidth\":2},\"zaxis\":{\"backgroundcolor\":\"#E5ECF6\",\"gridcolor\":\"white\",\"linecolor\":\"white\",\"showbackground\":true,\"ticks\":\"\",\"zerolinecolor\":\"white\",\"gridwidth\":2}},\"shapedefaults\":{\"line\":{\"color\":\"#2a3f5f\"}},\"annotationdefaults\":{\"arrowcolor\":\"#2a3f5f\",\"arrowhead\":0,\"arrowwidth\":1},\"geo\":{\"bgcolor\":\"white\",\"landcolor\":\"#E5ECF6\",\"subunitcolor\":\"white\",\"showland\":true,\"showlakes\":true,\"lakecolor\":\"white\"},\"title\":{\"x\":0.05},\"mapbox\":{\"style\":\"light\"}}}},                        {\"responsive\": true}                    ).then(function(){\n",
       "                            \n",
       "var gd = document.getElementById('f84c7859-ebd8-4cee-8cf8-8097b10e06c9');\n",
       "var x = new MutationObserver(function (mutations, observer) {{\n",
       "        var display = window.getComputedStyle(gd).display;\n",
       "        if (!display || display === 'none') {{\n",
       "            console.log([gd, 'removed!']);\n",
       "            Plotly.purge(gd);\n",
       "            observer.disconnect();\n",
       "        }}\n",
       "}});\n",
       "\n",
       "// Listen for the removal of the full notebook cells\n",
       "var notebookContainer = gd.closest('#notebook-container');\n",
       "if (notebookContainer) {{\n",
       "    x.observe(notebookContainer, {childList: true});\n",
       "}}\n",
       "\n",
       "// Listen for the clearing of the current output cell\n",
       "var outputEl = gd.closest('.output');\n",
       "if (outputEl) {{\n",
       "    x.observe(outputEl, {childList: true});\n",
       "}}\n",
       "\n",
       "                        })                };                });            </script>        </div>"
      ]
     },
     "metadata": {},
     "output_type": "display_data"
    }
   ],
   "source": [
    "plot_plotly(m ,forecast, xlabel='Year', ylabel='Price')\n",
    "   "
   ]
  }
 ],
 "metadata": {
  "kernelspec": {
   "display_name": "Python 3 (ipykernel)",
   "language": "python",
   "name": "python3"
  },
  "language_info": {
   "codemirror_mode": {
    "name": "ipython",
    "version": 3
   },
   "file_extension": ".py",
   "mimetype": "text/x-python",
   "name": "python",
   "nbconvert_exporter": "python",
   "pygments_lexer": "ipython3",
   "version": "3.11.1"
  }
 },
 "nbformat": 4,
 "nbformat_minor": 5
}
